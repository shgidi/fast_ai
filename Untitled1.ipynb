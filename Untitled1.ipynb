{
 "cells": [
  {
   "cell_type": "code",
   "execution_count": 1,
   "metadata": {
    "collapsed": true
   },
   "outputs": [],
   "source": [
    "import pandas as pd"
   ]
  },
  {
   "cell_type": "code",
   "execution_count": 2,
   "metadata": {
    "collapsed": true
   },
   "outputs": [],
   "source": [
    "a=pd.DataFrame({'a':[1,2,3,4,5],'b':[5,6,7,8,9]})"
   ]
  },
  {
   "cell_type": "code",
   "execution_count": 6,
   "metadata": {
    "collapsed": false
   },
   "outputs": [
    {
     "name": "stdout",
     "output_type": "stream",
     "text": [
      "0 a    1\n",
      "b    5\n",
      "Name: 0, dtype: int64\n",
      "1 a    2\n",
      "b    6\n",
      "Name: 1, dtype: int64\n",
      "2 a    3\n",
      "b    7\n",
      "Name: 2, dtype: int64\n",
      "3 a    4\n",
      "b    8\n",
      "Name: 3, dtype: int64\n",
      "4 a    5\n",
      "b    9\n",
      "Name: 4, dtype: int64\n"
     ]
    }
   ],
   "source": [
    "for i in a.iterrows():\n",
    "    print i[0],i[1]"
   ]
  }
 ],
 "metadata": {
  "kernelspec": {
   "display_name": "Python 2",
   "language": "python",
   "name": "python2"
  },
  "language_info": {
   "codemirror_mode": {
    "name": "ipython",
    "version": 2
   },
   "file_extension": ".py",
   "mimetype": "text/x-python",
   "name": "python",
   "nbconvert_exporter": "python",
   "pygments_lexer": "ipython2",
   "version": "2.7.12+"
  }
 },
 "nbformat": 4,
 "nbformat_minor": 2
}
