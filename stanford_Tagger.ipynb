{
 "cells": [
  {
   "cell_type": "code",
   "execution_count": 2,
   "metadata": {
    "collapsed": true
   },
   "outputs": [],
   "source": [
    "st = StanfordNERTagger('C:\\Python26\\Lib\\stanford-ner\\classifiers\\english.all.3class.distsim.crf.ser.gz','C:\\Python26\\Lib\\stanford-ner\\stanford-ner.jar')"
   ]
  },
  {
   "cell_type": "code",
   "execution_count": 5,
   "metadata": {
    "collapsed": false
   },
   "outputs": [],
   "source": [
    "from nltk.tag import StanfordNERTagger\n",
    "import os\n",
    "os.environ.get('CLASSPATH')\n",
    "path='/apps/stanford-ner-2016-10-31/classifiers/'\n",
    "st = StanfordNERTagger('/home/ubuntu/apps/stanford-ner-2016-10-31/classifiers/english.all.3class.distsim.crf.ser.gz',\\\n",
    "                      '/home/ubuntu/apps/stanford-ner-2016-10-31/stanford-ner.jar') "
   ]
  },
  {
   "cell_type": "code",
   "execution_count": 6,
   "metadata": {
    "collapsed": false
   },
   "outputs": [
    {
     "data": {
      "text/plain": [
       "[('Rami', 'PERSON'),\n",
       " ('Eid', 'PERSON'),\n",
       " ('is', 'O'),\n",
       " ('studying', 'O'),\n",
       " ('at', 'O'),\n",
       " ('Stony', 'ORGANIZATION'),\n",
       " ('Brook', 'ORGANIZATION'),\n",
       " ('University', 'ORGANIZATION'),\n",
       " ('in', 'O'),\n",
       " ('NY', 'O')]"
      ]
     },
     "execution_count": 6,
     "metadata": {},
     "output_type": "execute_result"
    }
   ],
   "source": [
    "st.tag('Rami Eid is studying at Stony Brook University in NY'.split()) "
   ]
  }
 ],
 "metadata": {
  "kernelspec": {
   "display_name": "Python 3",
   "language": "python",
   "name": "python3"
  },
  "language_info": {
   "codemirror_mode": {
    "name": "ipython",
    "version": 3
   },
   "file_extension": ".py",
   "mimetype": "text/x-python",
   "name": "python",
   "nbconvert_exporter": "python",
   "pygments_lexer": "ipython3",
   "version": "3.6.0"
  }
 },
 "nbformat": 4,
 "nbformat_minor": 2
}
