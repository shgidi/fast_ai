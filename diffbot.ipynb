{
 "cells": [
  {
   "cell_type": "markdown",
   "metadata": {},
   "source": [
    "## diffbot"
   ]
  },
  {
   "cell_type": "code",
   "execution_count": 2,
   "metadata": {
    "collapsed": false
   },
   "outputs": [
    {
     "name": "stdout",
     "output_type": "stream",
     "text": [
      "/home/ubuntu/diffbot-python-client\n"
     ]
    }
   ],
   "source": [
    "cd ~/diffbot-python-client"
   ]
  },
  {
   "cell_type": "code",
   "execution_count": 11,
   "metadata": {
    "collapsed": false
   },
   "outputs": [],
   "source": [
    "import six\n",
    "from client import DiffbotClient,DiffbotCrawl\n",
    "from config import API_TOKEN\n",
    "import pprint\n",
    "import time"
   ]
  },
  {
   "cell_type": "code",
   "execution_count": 6,
   "metadata": {
    "collapsed": true
   },
   "outputs": [],
   "source": [
    "diffbot = DiffbotClient()"
   ]
  },
  {
   "cell_type": "code",
   "execution_count": 12,
   "metadata": {
    "collapsed": false
   },
   "outputs": [],
   "source": [
    "token = API_TOKEN"
   ]
  },
  {
   "cell_type": "code",
   "execution_count": 7,
   "metadata": {
    "collapsed": true
   },
   "outputs": [],
   "source": [
    "url = \"http://shichuan.github.io/javascript-patterns/\""
   ]
  },
  {
   "cell_type": "code",
   "execution_count": 8,
   "metadata": {
    "collapsed": true
   },
   "outputs": [],
   "source": [
    "api = \"article\""
   ]
  },
  {
   "cell_type": "code",
   "execution_count": 13,
   "metadata": {
    "collapsed": false
   },
   "outputs": [],
   "source": [
    "response = diffbot.request(url, token, api)"
   ]
  },
  {
   "cell_type": "code",
   "execution_count": 16,
   "metadata": {
    "collapsed": false
   },
   "outputs": [
    {
     "data": {
      "text/plain": [
       "dict_keys(['request', 'objects'])"
      ]
     },
     "execution_count": 16,
     "metadata": {},
     "output_type": "execute_result"
    }
   ],
   "source": [
    "(response.keys())"
   ]
  },
  {
   "cell_type": "code",
   "execution_count": 25,
   "metadata": {
    "collapsed": false
   },
   "outputs": [
    {
     "data": {
      "text/plain": [
       "[{'count': 1,\n",
       "  'label': 'Object lifetime',\n",
       "  'score': 0.75,\n",
       "  'uri': 'http://dbpedia.org/page/Object_lifetime'},\n",
       " {'count': 1,\n",
       "  'label': 'Anonymous function',\n",
       "  'score': 0.66,\n",
       "  'uri': 'http://dbpedia.org/page/Anonymous_function'},\n",
       " {'count': 3,\n",
       "  'label': 'Anti-pattern',\n",
       "  'score': 0.73,\n",
       "  'uri': 'http://dbpedia.org/page/Anti-pattern'},\n",
       " {'count': 3,\n",
       "  'label': 'Global variable',\n",
       "  'score': 0.61,\n",
       "  'uri': 'http://dbpedia.org/page/Global_variable'},\n",
       " {'count': 4,\n",
       "  'label': 'Plug-in (computing)',\n",
       "  'score': 0.65,\n",
       "  'uri': 'http://dbpedia.org/page/Plug-in_%28computing%29'},\n",
       " {'count': 5,\n",
       "  'label': 'JavaScript',\n",
       "  'rdfTypes': ['http://www.w3.org/2002/07/owl#Thing',\n",
       "   'http://dbpedia.org/ontology/ProgrammingLanguage',\n",
       "   'http://www.wikidata.org/entity/Q9143',\n",
       "   'http://dbpedia.org/ontology/Language',\n",
       "   'http://schema.org/Language',\n",
       "   'http://www.wikidata.org/entity/Q315',\n",
       "   'http://www.wikidata.org/entity/Q34770'],\n",
       "  'score': 0.97,\n",
       "  'uri': 'http://dbpedia.org/page/JavaScript'},\n",
       " {'count': 6,\n",
       "  'label': 'JQuery',\n",
       "  'rdfTypes': ['http://dbpedia.org/ontology/Software',\n",
       "   'http://dbpedia.org/ontology/Work',\n",
       "   'http://www.w3.org/2002/07/owl#Thing'],\n",
       "  'score': 0.79,\n",
       "  'uri': 'http://dbpedia.org/page/JQuery'},\n",
       " {'count': 8,\n",
       "  'label': 'Constructor (object-oriented programming)',\n",
       "  'rdfTypes': ['http://www.w3.org/2002/07/owl#Thing'],\n",
       "  'score': 0.69,\n",
       "  'uri': 'http://dbpedia.org/page/Constructor_%28object-oriented_programming%29'},\n",
       " {'count': 12,\n",
       "  'label': 'Method (computer programming)',\n",
       "  'score': 0.61,\n",
       "  'uri': 'http://dbpedia.org/page/Method_%28computer_programming%29'},\n",
       " {'count': 30,\n",
       "  'label': 'Pattern',\n",
       "  'score': 0.63,\n",
       "  'uri': 'http://dbpedia.org/page/Pattern'}]"
      ]
     },
     "execution_count": 25,
     "metadata": {},
     "output_type": "execute_result"
    }
   ],
   "source": [
    "response['objects'][0]['tags']"
   ]
  },
  {
   "cell_type": "markdown",
   "metadata": {},
   "source": [
    "## bigartm"
   ]
  },
  {
   "cell_type": "code",
   "execution_count": 28,
   "metadata": {
    "collapsed": false,
    "scrolled": true
   },
   "outputs": [
    {
     "ename": "ModuleNotFoundError",
     "evalue": "No module named 'artm'",
     "output_type": "error",
     "traceback": [
      "\u001b[0;31m---------------------------------------------------------------------------\u001b[0m",
      "\u001b[0;31mModuleNotFoundError\u001b[0m                       Traceback (most recent call last)",
      "\u001b[0;32m<ipython-input-28-189e382c9e52>\u001b[0m in \u001b[0;36m<module>\u001b[0;34m()\u001b[0m\n\u001b[0;32m----> 1\u001b[0;31m \u001b[0;32mimport\u001b[0m \u001b[0martm\u001b[0m\u001b[0;34m\u001b[0m\u001b[0m\n\u001b[0m\u001b[1;32m      2\u001b[0m \u001b[0;34m\u001b[0m\u001b[0m\n\u001b[1;32m      3\u001b[0m \u001b[0mmodel\u001b[0m \u001b[0;34m=\u001b[0m \u001b[0mbigartm\u001b[0m\u001b[0;34m.\u001b[0m\u001b[0mARTM\u001b[0m\u001b[0;34m(\u001b[0m\u001b[0mnum_topics\u001b[0m\u001b[0;34m=\u001b[0m\u001b[0;36m15\u001b[0m\u001b[0;34m)\u001b[0m\u001b[0;34m\u001b[0m\u001b[0m\n\u001b[1;32m      4\u001b[0m batch_vectorizer = bigartm.BatchVectorizer(data_format='bow_uci',\n\u001b[1;32m      5\u001b[0m                                            \u001b[0mcollection_name\u001b[0m\u001b[0;34m=\u001b[0m\u001b[0;34m'kos'\u001b[0m\u001b[0;34m,\u001b[0m\u001b[0;34m\u001b[0m\u001b[0m\n",
      "\u001b[0;31mModuleNotFoundError\u001b[0m: No module named 'artm'"
     ]
    }
   ],
   "source": [
    "import artm\n",
    "\n",
    "model = bigartm.ARTM(num_topics=15)\n",
    "batch_vectorizer = bigartm.BatchVectorizer(data_format='bow_uci',\n",
    "                                           collection_name='kos',\n",
    "                                           target_folder='kos')\n",
    "model.fit_offline(batches, passes=5)\n",
    "print (model.phi_)"
   ]
  },
  {
   "cell_type": "code",
   "execution_count": 38,
   "metadata": {
    "collapsed": true
   },
   "outputs": [],
   "source": [
    "os.environ.get('CLASSPATH')"
   ]
  },
  {
   "cell_type": "markdown",
   "metadata": {},
   "source": [
    "## open Calais"
   ]
  },
  {
   "cell_type": "markdown",
   "metadata": {},
   "source": [
    "try kales package for open Calais"
   ]
  },
  {
   "cell_type": "code",
   "execution_count": 47,
   "metadata": {
    "collapsed": false
   },
   "outputs": [],
   "source": [
    "from kales import Kales\n",
    "kales = Kales(api_key=\"XvjwEuEb50oElcxUKxlcMA93rJnG41Ne\")"
   ]
  },
  {
   "cell_type": "code",
   "execution_count": 48,
   "metadata": {
    "collapsed": false
   },
   "outputs": [
    {
     "ename": "ConnectionError",
     "evalue": "HTTPConnectionPool(host='api.opencalais.com', port=80): Max retries exceeded with url: /tag/rs/enrich (Caused by NewConnectionError('<requests.packages.urllib3.connection.HTTPConnection object at 0x7f2de2901fd0>: Failed to establish a new connection: [Errno -2] Name or service not known',))",
     "output_type": "error",
     "traceback": [
      "\u001b[0;31m---------------------------------------------------------------------------\u001b[0m",
      "\u001b[0;31mgaierror\u001b[0m                                  Traceback (most recent call last)",
      "\u001b[0;32m/home/ubuntu/anaconda3/lib/python3.6/site-packages/requests/packages/urllib3/connection.py\u001b[0m in \u001b[0;36m_new_conn\u001b[0;34m(self)\u001b[0m\n\u001b[1;32m    140\u001b[0m             conn = connection.create_connection(\n\u001b[0;32m--> 141\u001b[0;31m                 (self.host, self.port), self.timeout, **extra_kw)\n\u001b[0m\u001b[1;32m    142\u001b[0m \u001b[0;34m\u001b[0m\u001b[0m\n",
      "\u001b[0;32m/home/ubuntu/anaconda3/lib/python3.6/site-packages/requests/packages/urllib3/util/connection.py\u001b[0m in \u001b[0;36mcreate_connection\u001b[0;34m(address, timeout, source_address, socket_options)\u001b[0m\n\u001b[1;32m     59\u001b[0m \u001b[0;34m\u001b[0m\u001b[0m\n\u001b[0;32m---> 60\u001b[0;31m     \u001b[0;32mfor\u001b[0m \u001b[0mres\u001b[0m \u001b[0;32min\u001b[0m \u001b[0msocket\u001b[0m\u001b[0;34m.\u001b[0m\u001b[0mgetaddrinfo\u001b[0m\u001b[0;34m(\u001b[0m\u001b[0mhost\u001b[0m\u001b[0;34m,\u001b[0m \u001b[0mport\u001b[0m\u001b[0;34m,\u001b[0m \u001b[0mfamily\u001b[0m\u001b[0;34m,\u001b[0m \u001b[0msocket\u001b[0m\u001b[0;34m.\u001b[0m\u001b[0mSOCK_STREAM\u001b[0m\u001b[0;34m)\u001b[0m\u001b[0;34m:\u001b[0m\u001b[0;34m\u001b[0m\u001b[0m\n\u001b[0m\u001b[1;32m     61\u001b[0m         \u001b[0maf\u001b[0m\u001b[0;34m,\u001b[0m \u001b[0msocktype\u001b[0m\u001b[0;34m,\u001b[0m \u001b[0mproto\u001b[0m\u001b[0;34m,\u001b[0m \u001b[0mcanonname\u001b[0m\u001b[0;34m,\u001b[0m \u001b[0msa\u001b[0m \u001b[0;34m=\u001b[0m \u001b[0mres\u001b[0m\u001b[0;34m\u001b[0m\u001b[0m\n",
      "\u001b[0;32m/home/ubuntu/anaconda3/lib/python3.6/socket.py\u001b[0m in \u001b[0;36mgetaddrinfo\u001b[0;34m(host, port, family, type, proto, flags)\u001b[0m\n\u001b[1;32m    742\u001b[0m     \u001b[0maddrlist\u001b[0m \u001b[0;34m=\u001b[0m \u001b[0;34m[\u001b[0m\u001b[0;34m]\u001b[0m\u001b[0;34m\u001b[0m\u001b[0m\n\u001b[0;32m--> 743\u001b[0;31m     \u001b[0;32mfor\u001b[0m \u001b[0mres\u001b[0m \u001b[0;32min\u001b[0m \u001b[0m_socket\u001b[0m\u001b[0;34m.\u001b[0m\u001b[0mgetaddrinfo\u001b[0m\u001b[0;34m(\u001b[0m\u001b[0mhost\u001b[0m\u001b[0;34m,\u001b[0m \u001b[0mport\u001b[0m\u001b[0;34m,\u001b[0m \u001b[0mfamily\u001b[0m\u001b[0;34m,\u001b[0m \u001b[0mtype\u001b[0m\u001b[0;34m,\u001b[0m \u001b[0mproto\u001b[0m\u001b[0;34m,\u001b[0m \u001b[0mflags\u001b[0m\u001b[0;34m)\u001b[0m\u001b[0;34m:\u001b[0m\u001b[0;34m\u001b[0m\u001b[0m\n\u001b[0m\u001b[1;32m    744\u001b[0m         \u001b[0maf\u001b[0m\u001b[0;34m,\u001b[0m \u001b[0msocktype\u001b[0m\u001b[0;34m,\u001b[0m \u001b[0mproto\u001b[0m\u001b[0;34m,\u001b[0m \u001b[0mcanonname\u001b[0m\u001b[0;34m,\u001b[0m \u001b[0msa\u001b[0m \u001b[0;34m=\u001b[0m \u001b[0mres\u001b[0m\u001b[0;34m\u001b[0m\u001b[0m\n",
      "\u001b[0;31mgaierror\u001b[0m: [Errno -2] Name or service not known",
      "\nDuring handling of the above exception, another exception occurred:\n",
      "\u001b[0;31mNewConnectionError\u001b[0m                        Traceback (most recent call last)",
      "\u001b[0;32m/home/ubuntu/anaconda3/lib/python3.6/site-packages/requests/packages/urllib3/connectionpool.py\u001b[0m in \u001b[0;36murlopen\u001b[0;34m(self, method, url, body, headers, retries, redirect, assert_same_host, timeout, pool_timeout, release_conn, chunked, body_pos, **response_kw)\u001b[0m\n\u001b[1;32m    599\u001b[0m                                                   \u001b[0mbody\u001b[0m\u001b[0;34m=\u001b[0m\u001b[0mbody\u001b[0m\u001b[0;34m,\u001b[0m \u001b[0mheaders\u001b[0m\u001b[0;34m=\u001b[0m\u001b[0mheaders\u001b[0m\u001b[0;34m,\u001b[0m\u001b[0;34m\u001b[0m\u001b[0m\n\u001b[0;32m--> 600\u001b[0;31m                                                   chunked=chunked)\n\u001b[0m\u001b[1;32m    601\u001b[0m \u001b[0;34m\u001b[0m\u001b[0m\n",
      "\u001b[0;32m/home/ubuntu/anaconda3/lib/python3.6/site-packages/requests/packages/urllib3/connectionpool.py\u001b[0m in \u001b[0;36m_make_request\u001b[0;34m(self, conn, method, url, timeout, chunked, **httplib_request_kw)\u001b[0m\n\u001b[1;32m    355\u001b[0m         \u001b[0;32melse\u001b[0m\u001b[0;34m:\u001b[0m\u001b[0;34m\u001b[0m\u001b[0m\n\u001b[0;32m--> 356\u001b[0;31m             \u001b[0mconn\u001b[0m\u001b[0;34m.\u001b[0m\u001b[0mrequest\u001b[0m\u001b[0;34m(\u001b[0m\u001b[0mmethod\u001b[0m\u001b[0;34m,\u001b[0m \u001b[0murl\u001b[0m\u001b[0;34m,\u001b[0m \u001b[0;34m**\u001b[0m\u001b[0mhttplib_request_kw\u001b[0m\u001b[0;34m)\u001b[0m\u001b[0;34m\u001b[0m\u001b[0m\n\u001b[0m\u001b[1;32m    357\u001b[0m \u001b[0;34m\u001b[0m\u001b[0m\n",
      "\u001b[0;32m/home/ubuntu/anaconda3/lib/python3.6/http/client.py\u001b[0m in \u001b[0;36mrequest\u001b[0;34m(self, method, url, body, headers, encode_chunked)\u001b[0m\n\u001b[1;32m   1238\u001b[0m         \u001b[0;34m\"\"\"Send a complete request to the server.\"\"\"\u001b[0m\u001b[0;34m\u001b[0m\u001b[0m\n\u001b[0;32m-> 1239\u001b[0;31m         \u001b[0mself\u001b[0m\u001b[0;34m.\u001b[0m\u001b[0m_send_request\u001b[0m\u001b[0;34m(\u001b[0m\u001b[0mmethod\u001b[0m\u001b[0;34m,\u001b[0m \u001b[0murl\u001b[0m\u001b[0;34m,\u001b[0m \u001b[0mbody\u001b[0m\u001b[0;34m,\u001b[0m \u001b[0mheaders\u001b[0m\u001b[0;34m,\u001b[0m \u001b[0mencode_chunked\u001b[0m\u001b[0;34m)\u001b[0m\u001b[0;34m\u001b[0m\u001b[0m\n\u001b[0m\u001b[1;32m   1240\u001b[0m \u001b[0;34m\u001b[0m\u001b[0m\n",
      "\u001b[0;32m/home/ubuntu/anaconda3/lib/python3.6/http/client.py\u001b[0m in \u001b[0;36m_send_request\u001b[0;34m(self, method, url, body, headers, encode_chunked)\u001b[0m\n\u001b[1;32m   1284\u001b[0m             \u001b[0mbody\u001b[0m \u001b[0;34m=\u001b[0m \u001b[0m_encode\u001b[0m\u001b[0;34m(\u001b[0m\u001b[0mbody\u001b[0m\u001b[0;34m,\u001b[0m \u001b[0;34m'body'\u001b[0m\u001b[0;34m)\u001b[0m\u001b[0;34m\u001b[0m\u001b[0m\n\u001b[0;32m-> 1285\u001b[0;31m         \u001b[0mself\u001b[0m\u001b[0;34m.\u001b[0m\u001b[0mendheaders\u001b[0m\u001b[0;34m(\u001b[0m\u001b[0mbody\u001b[0m\u001b[0;34m,\u001b[0m \u001b[0mencode_chunked\u001b[0m\u001b[0;34m=\u001b[0m\u001b[0mencode_chunked\u001b[0m\u001b[0;34m)\u001b[0m\u001b[0;34m\u001b[0m\u001b[0m\n\u001b[0m\u001b[1;32m   1286\u001b[0m \u001b[0;34m\u001b[0m\u001b[0m\n",
      "\u001b[0;32m/home/ubuntu/anaconda3/lib/python3.6/http/client.py\u001b[0m in \u001b[0;36mendheaders\u001b[0;34m(self, message_body, encode_chunked)\u001b[0m\n\u001b[1;32m   1233\u001b[0m             \u001b[0;32mraise\u001b[0m \u001b[0mCannotSendHeader\u001b[0m\u001b[0;34m(\u001b[0m\u001b[0;34m)\u001b[0m\u001b[0;34m\u001b[0m\u001b[0m\n\u001b[0;32m-> 1234\u001b[0;31m         \u001b[0mself\u001b[0m\u001b[0;34m.\u001b[0m\u001b[0m_send_output\u001b[0m\u001b[0;34m(\u001b[0m\u001b[0mmessage_body\u001b[0m\u001b[0;34m,\u001b[0m \u001b[0mencode_chunked\u001b[0m\u001b[0;34m=\u001b[0m\u001b[0mencode_chunked\u001b[0m\u001b[0;34m)\u001b[0m\u001b[0;34m\u001b[0m\u001b[0m\n\u001b[0m\u001b[1;32m   1235\u001b[0m \u001b[0;34m\u001b[0m\u001b[0m\n",
      "\u001b[0;32m/home/ubuntu/anaconda3/lib/python3.6/http/client.py\u001b[0m in \u001b[0;36m_send_output\u001b[0;34m(self, message_body, encode_chunked)\u001b[0m\n\u001b[1;32m   1025\u001b[0m         \u001b[0;32mdel\u001b[0m \u001b[0mself\u001b[0m\u001b[0;34m.\u001b[0m\u001b[0m_buffer\u001b[0m\u001b[0;34m[\u001b[0m\u001b[0;34m:\u001b[0m\u001b[0;34m]\u001b[0m\u001b[0;34m\u001b[0m\u001b[0m\n\u001b[0;32m-> 1026\u001b[0;31m         \u001b[0mself\u001b[0m\u001b[0;34m.\u001b[0m\u001b[0msend\u001b[0m\u001b[0;34m(\u001b[0m\u001b[0mmsg\u001b[0m\u001b[0;34m)\u001b[0m\u001b[0;34m\u001b[0m\u001b[0m\n\u001b[0m\u001b[1;32m   1027\u001b[0m \u001b[0;34m\u001b[0m\u001b[0m\n",
      "\u001b[0;32m/home/ubuntu/anaconda3/lib/python3.6/http/client.py\u001b[0m in \u001b[0;36msend\u001b[0;34m(self, data)\u001b[0m\n\u001b[1;32m    963\u001b[0m             \u001b[0;32mif\u001b[0m \u001b[0mself\u001b[0m\u001b[0;34m.\u001b[0m\u001b[0mauto_open\u001b[0m\u001b[0;34m:\u001b[0m\u001b[0;34m\u001b[0m\u001b[0m\n\u001b[0;32m--> 964\u001b[0;31m                 \u001b[0mself\u001b[0m\u001b[0;34m.\u001b[0m\u001b[0mconnect\u001b[0m\u001b[0;34m(\u001b[0m\u001b[0;34m)\u001b[0m\u001b[0;34m\u001b[0m\u001b[0m\n\u001b[0m\u001b[1;32m    965\u001b[0m             \u001b[0;32melse\u001b[0m\u001b[0;34m:\u001b[0m\u001b[0;34m\u001b[0m\u001b[0m\n",
      "\u001b[0;32m/home/ubuntu/anaconda3/lib/python3.6/site-packages/requests/packages/urllib3/connection.py\u001b[0m in \u001b[0;36mconnect\u001b[0;34m(self)\u001b[0m\n\u001b[1;32m    165\u001b[0m     \u001b[0;32mdef\u001b[0m \u001b[0mconnect\u001b[0m\u001b[0;34m(\u001b[0m\u001b[0mself\u001b[0m\u001b[0;34m)\u001b[0m\u001b[0;34m:\u001b[0m\u001b[0;34m\u001b[0m\u001b[0m\n\u001b[0;32m--> 166\u001b[0;31m         \u001b[0mconn\u001b[0m \u001b[0;34m=\u001b[0m \u001b[0mself\u001b[0m\u001b[0;34m.\u001b[0m\u001b[0m_new_conn\u001b[0m\u001b[0;34m(\u001b[0m\u001b[0;34m)\u001b[0m\u001b[0;34m\u001b[0m\u001b[0m\n\u001b[0m\u001b[1;32m    167\u001b[0m         \u001b[0mself\u001b[0m\u001b[0;34m.\u001b[0m\u001b[0m_prepare_conn\u001b[0m\u001b[0;34m(\u001b[0m\u001b[0mconn\u001b[0m\u001b[0;34m)\u001b[0m\u001b[0;34m\u001b[0m\u001b[0m\n",
      "\u001b[0;32m/home/ubuntu/anaconda3/lib/python3.6/site-packages/requests/packages/urllib3/connection.py\u001b[0m in \u001b[0;36m_new_conn\u001b[0;34m(self)\u001b[0m\n\u001b[1;32m    149\u001b[0m             raise NewConnectionError(\n\u001b[0;32m--> 150\u001b[0;31m                 self, \"Failed to establish a new connection: %s\" % e)\n\u001b[0m\u001b[1;32m    151\u001b[0m \u001b[0;34m\u001b[0m\u001b[0m\n",
      "\u001b[0;31mNewConnectionError\u001b[0m: <requests.packages.urllib3.connection.HTTPConnection object at 0x7f2de2901fd0>: Failed to establish a new connection: [Errno -2] Name or service not known",
      "\nDuring handling of the above exception, another exception occurred:\n",
      "\u001b[0;31mMaxRetryError\u001b[0m                             Traceback (most recent call last)",
      "\u001b[0;32m/home/ubuntu/anaconda3/lib/python3.6/site-packages/requests/adapters.py\u001b[0m in \u001b[0;36msend\u001b[0;34m(self, request, stream, timeout, verify, cert, proxies)\u001b[0m\n\u001b[1;32m    422\u001b[0m                     \u001b[0mretries\u001b[0m\u001b[0;34m=\u001b[0m\u001b[0mself\u001b[0m\u001b[0;34m.\u001b[0m\u001b[0mmax_retries\u001b[0m\u001b[0;34m,\u001b[0m\u001b[0;34m\u001b[0m\u001b[0m\n\u001b[0;32m--> 423\u001b[0;31m                     \u001b[0mtimeout\u001b[0m\u001b[0;34m=\u001b[0m\u001b[0mtimeout\u001b[0m\u001b[0;34m\u001b[0m\u001b[0m\n\u001b[0m\u001b[1;32m    424\u001b[0m                 )\n",
      "\u001b[0;32m/home/ubuntu/anaconda3/lib/python3.6/site-packages/requests/packages/urllib3/connectionpool.py\u001b[0m in \u001b[0;36murlopen\u001b[0;34m(self, method, url, body, headers, retries, redirect, assert_same_host, timeout, pool_timeout, release_conn, chunked, body_pos, **response_kw)\u001b[0m\n\u001b[1;32m    648\u001b[0m             retries = retries.increment(method, url, error=e, _pool=self,\n\u001b[0;32m--> 649\u001b[0;31m                                         _stacktrace=sys.exc_info()[2])\n\u001b[0m\u001b[1;32m    650\u001b[0m             \u001b[0mretries\u001b[0m\u001b[0;34m.\u001b[0m\u001b[0msleep\u001b[0m\u001b[0;34m(\u001b[0m\u001b[0;34m)\u001b[0m\u001b[0;34m\u001b[0m\u001b[0m\n",
      "\u001b[0;32m/home/ubuntu/anaconda3/lib/python3.6/site-packages/requests/packages/urllib3/util/retry.py\u001b[0m in \u001b[0;36mincrement\u001b[0;34m(self, method, url, response, error, _pool, _stacktrace)\u001b[0m\n\u001b[1;32m    375\u001b[0m         \u001b[0;32mif\u001b[0m \u001b[0mnew_retry\u001b[0m\u001b[0;34m.\u001b[0m\u001b[0mis_exhausted\u001b[0m\u001b[0;34m(\u001b[0m\u001b[0;34m)\u001b[0m\u001b[0;34m:\u001b[0m\u001b[0;34m\u001b[0m\u001b[0m\n\u001b[0;32m--> 376\u001b[0;31m             \u001b[0;32mraise\u001b[0m \u001b[0mMaxRetryError\u001b[0m\u001b[0;34m(\u001b[0m\u001b[0m_pool\u001b[0m\u001b[0;34m,\u001b[0m \u001b[0murl\u001b[0m\u001b[0;34m,\u001b[0m \u001b[0merror\u001b[0m \u001b[0;32mor\u001b[0m \u001b[0mResponseError\u001b[0m\u001b[0;34m(\u001b[0m\u001b[0mcause\u001b[0m\u001b[0;34m)\u001b[0m\u001b[0;34m)\u001b[0m\u001b[0;34m\u001b[0m\u001b[0m\n\u001b[0m\u001b[1;32m    377\u001b[0m \u001b[0;34m\u001b[0m\u001b[0m\n",
      "\u001b[0;31mMaxRetryError\u001b[0m: HTTPConnectionPool(host='api.opencalais.com', port=80): Max retries exceeded with url: /tag/rs/enrich (Caused by NewConnectionError('<requests.packages.urllib3.connection.HTTPConnection object at 0x7f2de2901fd0>: Failed to establish a new connection: [Errno -2] Name or service not known',))",
      "\nDuring handling of the above exception, another exception occurred:\n",
      "\u001b[0;31mConnectionError\u001b[0m                           Traceback (most recent call last)",
      "\u001b[0;32m<ipython-input-48-01b1bba7d696>\u001b[0m in \u001b[0;36m<module>\u001b[0;34m()\u001b[0m\n\u001b[0;32m----> 1\u001b[0;31m \u001b[0mkales\u001b[0m\u001b[0;34m.\u001b[0m\u001b[0manalyze\u001b[0m\u001b[0;34m(\u001b[0m\u001b[0;34m\"your text\"\u001b[0m\u001b[0;34m)\u001b[0m\u001b[0;34m\u001b[0m\u001b[0m\n\u001b[0m",
      "\u001b[0;32m/home/ubuntu/anaconda3/lib/python3.6/site-packages/kales.py\u001b[0m in \u001b[0;36manalyze\u001b[0;34m(self, content, content_type, external_id, **kwargs)\u001b[0m\n\u001b[1;32m     31\u001b[0m             \u001b[0mexternal_id\u001b[0m \u001b[0;34m=\u001b[0m \u001b[0muuid\u001b[0m\u001b[0;34m.\u001b[0m\u001b[0muuid4\u001b[0m\u001b[0;34m(\u001b[0m\u001b[0;34m)\u001b[0m\u001b[0;34m.\u001b[0m\u001b[0mhex\u001b[0m\u001b[0;34m\u001b[0m\u001b[0m\n\u001b[1;32m     32\u001b[0m \u001b[0;34m\u001b[0m\u001b[0m\n\u001b[0;32m---> 33\u001b[0;31m         \u001b[0mresponse\u001b[0m \u001b[0;34m=\u001b[0m \u001b[0mself\u001b[0m\u001b[0;34m.\u001b[0m\u001b[0m_request\u001b[0m\u001b[0;34m(\u001b[0m\u001b[0mcontent\u001b[0m\u001b[0;34m,\u001b[0m \u001b[0mcontent_type\u001b[0m\u001b[0;34m,\u001b[0m \u001b[0mexternal_id\u001b[0m\u001b[0;34m,\u001b[0m \u001b[0;34m**\u001b[0m\u001b[0mkwargs\u001b[0m\u001b[0;34m)\u001b[0m\u001b[0;34m\u001b[0m\u001b[0m\n\u001b[0m\u001b[1;32m     34\u001b[0m         \u001b[0mresponse\u001b[0m\u001b[0;34m.\u001b[0m\u001b[0mraise_for_status\u001b[0m\u001b[0;34m(\u001b[0m\u001b[0;34m)\u001b[0m\u001b[0;34m\u001b[0m\u001b[0m\n\u001b[1;32m     35\u001b[0m         \u001b[0mcontent\u001b[0m \u001b[0;34m=\u001b[0m \u001b[0mjson\u001b[0m\u001b[0;34m.\u001b[0m\u001b[0mloads\u001b[0m\u001b[0;34m(\u001b[0m\u001b[0mresponse\u001b[0m\u001b[0;34m.\u001b[0m\u001b[0mcontent\u001b[0m\u001b[0;34m)\u001b[0m\u001b[0;34m\u001b[0m\u001b[0m\n",
      "\u001b[0;32m/home/ubuntu/anaconda3/lib/python3.6/site-packages/kales.py\u001b[0m in \u001b[0;36m_request\u001b[0;34m(self, content, content_type, external_id, **kwargs)\u001b[0m\n\u001b[1;32m     22\u001b[0m         \u001b[0mheaders\u001b[0m\u001b[0;34m.\u001b[0m\u001b[0mupdate\u001b[0m\u001b[0;34m(\u001b[0m\u001b[0mkwargs\u001b[0m\u001b[0;34m)\u001b[0m\u001b[0;34m\u001b[0m\u001b[0m\n\u001b[1;32m     23\u001b[0m         return requests.post(\"http://api.opencalais.com/tag/rs/enrich\",\n\u001b[0;32m---> 24\u001b[0;31m             data=content, headers=headers)\n\u001b[0m\u001b[1;32m     25\u001b[0m \u001b[0;34m\u001b[0m\u001b[0m\n\u001b[1;32m     26\u001b[0m     \u001b[0;32mdef\u001b[0m \u001b[0manalyze\u001b[0m\u001b[0;34m(\u001b[0m\u001b[0mself\u001b[0m\u001b[0;34m,\u001b[0m \u001b[0mcontent\u001b[0m\u001b[0;34m,\u001b[0m \u001b[0mcontent_type\u001b[0m\u001b[0;34m=\u001b[0m\u001b[0;34m\"text/raw\"\u001b[0m\u001b[0;34m,\u001b[0m \u001b[0mexternal_id\u001b[0m\u001b[0;34m=\u001b[0m\u001b[0;32mNone\u001b[0m\u001b[0;34m,\u001b[0m \u001b[0;34m**\u001b[0m\u001b[0mkwargs\u001b[0m\u001b[0;34m)\u001b[0m\u001b[0;34m:\u001b[0m\u001b[0;34m\u001b[0m\u001b[0m\n",
      "\u001b[0;32m/home/ubuntu/anaconda3/lib/python3.6/site-packages/requests/api.py\u001b[0m in \u001b[0;36mpost\u001b[0;34m(url, data, json, **kwargs)\u001b[0m\n\u001b[1;32m    108\u001b[0m     \"\"\"\n\u001b[1;32m    109\u001b[0m \u001b[0;34m\u001b[0m\u001b[0m\n\u001b[0;32m--> 110\u001b[0;31m     \u001b[0;32mreturn\u001b[0m \u001b[0mrequest\u001b[0m\u001b[0;34m(\u001b[0m\u001b[0;34m'post'\u001b[0m\u001b[0;34m,\u001b[0m \u001b[0murl\u001b[0m\u001b[0;34m,\u001b[0m \u001b[0mdata\u001b[0m\u001b[0;34m=\u001b[0m\u001b[0mdata\u001b[0m\u001b[0;34m,\u001b[0m \u001b[0mjson\u001b[0m\u001b[0;34m=\u001b[0m\u001b[0mjson\u001b[0m\u001b[0;34m,\u001b[0m \u001b[0;34m**\u001b[0m\u001b[0mkwargs\u001b[0m\u001b[0;34m)\u001b[0m\u001b[0;34m\u001b[0m\u001b[0m\n\u001b[0m\u001b[1;32m    111\u001b[0m \u001b[0;34m\u001b[0m\u001b[0m\n\u001b[1;32m    112\u001b[0m \u001b[0;34m\u001b[0m\u001b[0m\n",
      "\u001b[0;32m/home/ubuntu/anaconda3/lib/python3.6/site-packages/requests/api.py\u001b[0m in \u001b[0;36mrequest\u001b[0;34m(method, url, **kwargs)\u001b[0m\n\u001b[1;32m     54\u001b[0m     \u001b[0;31m# cases, and look like a memory leak in others.\u001b[0m\u001b[0;34m\u001b[0m\u001b[0;34m\u001b[0m\u001b[0m\n\u001b[1;32m     55\u001b[0m     \u001b[0;32mwith\u001b[0m \u001b[0msessions\u001b[0m\u001b[0;34m.\u001b[0m\u001b[0mSession\u001b[0m\u001b[0;34m(\u001b[0m\u001b[0;34m)\u001b[0m \u001b[0;32mas\u001b[0m \u001b[0msession\u001b[0m\u001b[0;34m:\u001b[0m\u001b[0;34m\u001b[0m\u001b[0m\n\u001b[0;32m---> 56\u001b[0;31m         \u001b[0;32mreturn\u001b[0m \u001b[0msession\u001b[0m\u001b[0;34m.\u001b[0m\u001b[0mrequest\u001b[0m\u001b[0;34m(\u001b[0m\u001b[0mmethod\u001b[0m\u001b[0;34m=\u001b[0m\u001b[0mmethod\u001b[0m\u001b[0;34m,\u001b[0m \u001b[0murl\u001b[0m\u001b[0;34m=\u001b[0m\u001b[0murl\u001b[0m\u001b[0;34m,\u001b[0m \u001b[0;34m**\u001b[0m\u001b[0mkwargs\u001b[0m\u001b[0;34m)\u001b[0m\u001b[0;34m\u001b[0m\u001b[0m\n\u001b[0m\u001b[1;32m     57\u001b[0m \u001b[0;34m\u001b[0m\u001b[0m\n\u001b[1;32m     58\u001b[0m \u001b[0;34m\u001b[0m\u001b[0m\n",
      "\u001b[0;32m/home/ubuntu/anaconda3/lib/python3.6/site-packages/requests/sessions.py\u001b[0m in \u001b[0;36mrequest\u001b[0;34m(self, method, url, params, data, headers, cookies, files, auth, timeout, allow_redirects, proxies, hooks, stream, verify, cert, json)\u001b[0m\n\u001b[1;32m    486\u001b[0m         }\n\u001b[1;32m    487\u001b[0m         \u001b[0msend_kwargs\u001b[0m\u001b[0;34m.\u001b[0m\u001b[0mupdate\u001b[0m\u001b[0;34m(\u001b[0m\u001b[0msettings\u001b[0m\u001b[0;34m)\u001b[0m\u001b[0;34m\u001b[0m\u001b[0m\n\u001b[0;32m--> 488\u001b[0;31m         \u001b[0mresp\u001b[0m \u001b[0;34m=\u001b[0m \u001b[0mself\u001b[0m\u001b[0;34m.\u001b[0m\u001b[0msend\u001b[0m\u001b[0;34m(\u001b[0m\u001b[0mprep\u001b[0m\u001b[0;34m,\u001b[0m \u001b[0;34m**\u001b[0m\u001b[0msend_kwargs\u001b[0m\u001b[0;34m)\u001b[0m\u001b[0;34m\u001b[0m\u001b[0m\n\u001b[0m\u001b[1;32m    489\u001b[0m \u001b[0;34m\u001b[0m\u001b[0m\n\u001b[1;32m    490\u001b[0m         \u001b[0;32mreturn\u001b[0m \u001b[0mresp\u001b[0m\u001b[0;34m\u001b[0m\u001b[0m\n",
      "\u001b[0;32m/home/ubuntu/anaconda3/lib/python3.6/site-packages/requests/sessions.py\u001b[0m in \u001b[0;36msend\u001b[0;34m(self, request, **kwargs)\u001b[0m\n\u001b[1;32m    607\u001b[0m \u001b[0;34m\u001b[0m\u001b[0m\n\u001b[1;32m    608\u001b[0m         \u001b[0;31m# Send the request\u001b[0m\u001b[0;34m\u001b[0m\u001b[0;34m\u001b[0m\u001b[0m\n\u001b[0;32m--> 609\u001b[0;31m         \u001b[0mr\u001b[0m \u001b[0;34m=\u001b[0m \u001b[0madapter\u001b[0m\u001b[0;34m.\u001b[0m\u001b[0msend\u001b[0m\u001b[0;34m(\u001b[0m\u001b[0mrequest\u001b[0m\u001b[0;34m,\u001b[0m \u001b[0;34m**\u001b[0m\u001b[0mkwargs\u001b[0m\u001b[0;34m)\u001b[0m\u001b[0;34m\u001b[0m\u001b[0m\n\u001b[0m\u001b[1;32m    610\u001b[0m \u001b[0;34m\u001b[0m\u001b[0m\n\u001b[1;32m    611\u001b[0m         \u001b[0;31m# Total elapsed time of the request (approximately)\u001b[0m\u001b[0;34m\u001b[0m\u001b[0;34m\u001b[0m\u001b[0m\n",
      "\u001b[0;32m/home/ubuntu/anaconda3/lib/python3.6/site-packages/requests/adapters.py\u001b[0m in \u001b[0;36msend\u001b[0;34m(self, request, stream, timeout, verify, cert, proxies)\u001b[0m\n\u001b[1;32m    485\u001b[0m                 \u001b[0;32mraise\u001b[0m \u001b[0mProxyError\u001b[0m\u001b[0;34m(\u001b[0m\u001b[0me\u001b[0m\u001b[0;34m,\u001b[0m \u001b[0mrequest\u001b[0m\u001b[0;34m=\u001b[0m\u001b[0mrequest\u001b[0m\u001b[0;34m)\u001b[0m\u001b[0;34m\u001b[0m\u001b[0m\n\u001b[1;32m    486\u001b[0m \u001b[0;34m\u001b[0m\u001b[0m\n\u001b[0;32m--> 487\u001b[0;31m             \u001b[0;32mraise\u001b[0m \u001b[0mConnectionError\u001b[0m\u001b[0;34m(\u001b[0m\u001b[0me\u001b[0m\u001b[0;34m,\u001b[0m \u001b[0mrequest\u001b[0m\u001b[0;34m=\u001b[0m\u001b[0mrequest\u001b[0m\u001b[0;34m)\u001b[0m\u001b[0;34m\u001b[0m\u001b[0m\n\u001b[0m\u001b[1;32m    488\u001b[0m \u001b[0;34m\u001b[0m\u001b[0m\n\u001b[1;32m    489\u001b[0m         \u001b[0;32mexcept\u001b[0m \u001b[0mClosedPoolError\u001b[0m \u001b[0;32mas\u001b[0m \u001b[0me\u001b[0m\u001b[0;34m:\u001b[0m\u001b[0;34m\u001b[0m\u001b[0m\n",
      "\u001b[0;31mConnectionError\u001b[0m: HTTPConnectionPool(host='api.opencalais.com', port=80): Max retries exceeded with url: /tag/rs/enrich (Caused by NewConnectionError('<requests.packages.urllib3.connection.HTTPConnection object at 0x7f2de2901fd0>: Failed to establish a new connection: [Errno -2] Name or service not known',))"
     ]
    }
   ],
   "source": [
    "kales.analyze(\"your text\")"
   ]
  },
  {
   "cell_type": "markdown",
   "metadata": {},
   "source": [
    "Try with direct python "
   ]
  },
  {
   "cell_type": "code",
   "execution_count": 95,
   "metadata": {
    "collapsed": false
   },
   "outputs": [],
   "source": [
    "import httplib2\n",
    "import json\n",
    " \n",
    "# Some local values needed for the call\n",
    "LOCAL_API_KEY = 'XvjwEuEb50oElcxUKxlcMA93rJnG41Ne' # Aquire this by registering at the Calais site\n",
    "CALAIS_TAG_API = 'https://api.thomsonreuters.com/permid/calais'\n",
    " \n",
    "# Some sample text from a news story to pass to Calais for analysis\n",
    "test_body = \"\"\"\n",
    "Some huge announcements were made at Apple's Worldwide Developer's Conference Monday, including the new mobile operating system iOS 5, PC software OS X Lion, and the unveiling of the iCloud.\n",
    "\"\"\"\n",
    " \n",
    "# header information need by Calais.\n",
    "# For more info see http://www.opencalais.com/documentation/calais-web-service-api/api-invocation/rest\n",
    "headers = {\n",
    "    'X-AG-Access-Token': LOCAL_API_KEY,\n",
    "    'content-type': 'text/raw',\n",
    "    'accept': 'application/json',\n",
    "}\n",
    " \n",
    "# Create your http object\n",
    "http = httplib2.Http()\n",
    "# Make the http post request, passing the body and headers as needed.\n",
    "response, content = http.request(CALAIS_TAG_API, 'POST', headers=headers, body=test_body)\n",
    " \n",
    "#jcontent = json.loads(content) # Parse the json return into a python dict\n",
    "#print (json.dumps(jcontent, indent=4)) # Pretty print the resulting dictionary returned."
   ]
  },
  {
   "cell_type": "code",
   "execution_count": 70,
   "metadata": {
    "collapsed": false,
    "scrolled": true
   },
   "outputs": [
    {
     "data": {
      "text/plain": [
       "'https://api.thomsonreuters.com/permid/calais'"
      ]
     },
     "execution_count": 70,
     "metadata": {},
     "output_type": "execute_result"
    }
   ],
   "source": [
    "CALAIS_TAG_API"
   ]
  },
  {
   "cell_type": "code",
   "execution_count": 68,
   "metadata": {
    "collapsed": true
   },
   "outputs": [
    {
     "ename": "TypeError",
     "evalue": "request() got an unexpected keyword argument 'body'",
     "output_type": "error",
     "traceback": [
      "\u001b[0;31m---------------------------------------------------------------------------\u001b[0m",
      "\u001b[0;31mTypeError\u001b[0m                                 Traceback (most recent call last)",
      "\u001b[0;32m<ipython-input-68-e779aad90842>\u001b[0m in \u001b[0;36m<module>\u001b[0;34m()\u001b[0m\n\u001b[1;32m      1\u001b[0m \u001b[0;32mimport\u001b[0m \u001b[0mrequests\u001b[0m\u001b[0;34m\u001b[0m\u001b[0m\n\u001b[1;32m      2\u001b[0m \u001b[0;34m\u001b[0m\u001b[0m\n\u001b[0;32m----> 3\u001b[0;31m \u001b[0mrequests\u001b[0m\u001b[0;34m.\u001b[0m\u001b[0mpost\u001b[0m\u001b[0;34m(\u001b[0m\u001b[0mCALAIS_TAG_API\u001b[0m\u001b[0;34m,\u001b[0m \u001b[0mheaders\u001b[0m\u001b[0;34m=\u001b[0m\u001b[0mheaders\u001b[0m\u001b[0;34m,\u001b[0m \u001b[0mbody\u001b[0m\u001b[0;34m=\u001b[0m\u001b[0mtest_body\u001b[0m\u001b[0;34m)\u001b[0m\u001b[0;34m.\u001b[0m\u001b[0mjson\u001b[0m\u001b[0;34m(\u001b[0m\u001b[0;34m)\u001b[0m\u001b[0;34m\u001b[0m\u001b[0m\n\u001b[0m",
      "\u001b[0;32m/home/ubuntu/anaconda3/lib/python3.6/site-packages/requests/api.py\u001b[0m in \u001b[0;36mpost\u001b[0;34m(url, data, json, **kwargs)\u001b[0m\n\u001b[1;32m    108\u001b[0m     \"\"\"\n\u001b[1;32m    109\u001b[0m \u001b[0;34m\u001b[0m\u001b[0m\n\u001b[0;32m--> 110\u001b[0;31m     \u001b[0;32mreturn\u001b[0m \u001b[0mrequest\u001b[0m\u001b[0;34m(\u001b[0m\u001b[0;34m'post'\u001b[0m\u001b[0;34m,\u001b[0m \u001b[0murl\u001b[0m\u001b[0;34m,\u001b[0m \u001b[0mdata\u001b[0m\u001b[0;34m=\u001b[0m\u001b[0mdata\u001b[0m\u001b[0;34m,\u001b[0m \u001b[0mjson\u001b[0m\u001b[0;34m=\u001b[0m\u001b[0mjson\u001b[0m\u001b[0;34m,\u001b[0m \u001b[0;34m**\u001b[0m\u001b[0mkwargs\u001b[0m\u001b[0;34m)\u001b[0m\u001b[0;34m\u001b[0m\u001b[0m\n\u001b[0m\u001b[1;32m    111\u001b[0m \u001b[0;34m\u001b[0m\u001b[0m\n\u001b[1;32m    112\u001b[0m \u001b[0;34m\u001b[0m\u001b[0m\n",
      "\u001b[0;32m/home/ubuntu/anaconda3/lib/python3.6/site-packages/requests/api.py\u001b[0m in \u001b[0;36mrequest\u001b[0;34m(method, url, **kwargs)\u001b[0m\n\u001b[1;32m     54\u001b[0m     \u001b[0;31m# cases, and look like a memory leak in others.\u001b[0m\u001b[0;34m\u001b[0m\u001b[0;34m\u001b[0m\u001b[0m\n\u001b[1;32m     55\u001b[0m     \u001b[0;32mwith\u001b[0m \u001b[0msessions\u001b[0m\u001b[0;34m.\u001b[0m\u001b[0mSession\u001b[0m\u001b[0;34m(\u001b[0m\u001b[0;34m)\u001b[0m \u001b[0;32mas\u001b[0m \u001b[0msession\u001b[0m\u001b[0;34m:\u001b[0m\u001b[0;34m\u001b[0m\u001b[0m\n\u001b[0;32m---> 56\u001b[0;31m         \u001b[0;32mreturn\u001b[0m \u001b[0msession\u001b[0m\u001b[0;34m.\u001b[0m\u001b[0mrequest\u001b[0m\u001b[0;34m(\u001b[0m\u001b[0mmethod\u001b[0m\u001b[0;34m=\u001b[0m\u001b[0mmethod\u001b[0m\u001b[0;34m,\u001b[0m \u001b[0murl\u001b[0m\u001b[0;34m=\u001b[0m\u001b[0murl\u001b[0m\u001b[0;34m,\u001b[0m \u001b[0;34m**\u001b[0m\u001b[0mkwargs\u001b[0m\u001b[0;34m)\u001b[0m\u001b[0;34m\u001b[0m\u001b[0m\n\u001b[0m\u001b[1;32m     57\u001b[0m \u001b[0;34m\u001b[0m\u001b[0m\n\u001b[1;32m     58\u001b[0m \u001b[0;34m\u001b[0m\u001b[0m\n",
      "\u001b[0;31mTypeError\u001b[0m: request() got an unexpected keyword argument 'body'"
     ]
    }
   ],
   "source": [
    "import requests\n",
    "\n",
    "requests.post(CALAIS_TAG_API, headers=headers, body=test_body).json()"
   ]
  },
  {
   "cell_type": "code",
   "execution_count": 96,
   "metadata": {
    "collapsed": false
   },
   "outputs": [
    {
     "data": {
      "text/plain": [
       "bytes"
      ]
     },
     "execution_count": 96,
     "metadata": {},
     "output_type": "execute_result"
    }
   ],
   "source": [
    "type(content)"
   ]
  },
  {
   "cell_type": "code",
   "execution_count": 94,
   "metadata": {
    "collapsed": false
   },
   "outputs": [
    {
     "data": {
      "text/plain": [
       "requests.models.Response"
      ]
     },
     "execution_count": 94,
     "metadata": {},
     "output_type": "execute_result"
    }
   ],
   "source": [
    "type(response)"
   ]
  },
  {
   "cell_type": "code",
   "execution_count": 84,
   "metadata": {
    "collapsed": false
   },
   "outputs": [],
   "source": [
    "import urllib\n",
    "response=requests.post(CALAIS_TAG_API, data=test_body, headers=headers, timeout=80)"
   ]
  },
  {
   "cell_type": "code",
   "execution_count": 93,
   "metadata": {
    "collapsed": false
   },
   "outputs": [
    {
     "data": {
      "text/plain": [
       "'<?xml version=\"1.0\" encoding=\"UTF-8\"?>\\n<!--Use of the Calais Web Service is governed by the Terms of Service located at http://www.opencalais.com. By using this service or the results of the service you agree to these terms of service.--><!--Relations: \\nOperatingSystem: Mac OS X\\nTechnology: operating system\\n--><rdf:RDF xmlns:rdf=\"http://www.w3.org/1999/02/22-rdf-syntax-ns#\" xmlns:c=\"http://s.opencalais.com/1/pred/\"><rdf:Description c:calaisRequestID=\"e54a5947-0a4b-4b4f-15b3-48997c410b14\" c:id=\"http://id.opencalais.com/S6d2YrOznlHE6VAD2LLsww\" c:ontology=\"http://mdaas-virtual-onecalais.int.thomsonreuters.com/owlschema/10.5/onecalais.owl.allmetadata.xml\" rdf:about=\"http://d.opencalais.com/dochash-1/9fd57959-ed47-3c5f-b005-96395e16e30c\"><rdf:type rdf:resource=\"http://s.opencalais.com/1/type/sys/DocInfo\"/><c:document><![CDATA[\\nSome huge announcements were made at Apple\\'s Worldwide Developer\\'s Conference Monday, including the new mobile operating system iOS 5, PC software OS X Lion, and the unveiling of the iCloud.\\n]]></c:document><c:docTitle/><c:docDate>2017-04-03 15:58:04.526</c:docDate></rdf:Description><rdf:Description c:contentType=\"text/raw\" c:language=\"English\" c:processingVer=\"AllMetadata\" c:serverVersion=\"OneCalais_10.5-RELEASE:151\" c:stagsVer=\"OneCalais_10.5-RELEASE-b1-2017-02-26_17:34:30\" c:submissionDate=\"2017-04-03 15:58:04.228\" rdf:about=\"http://d.opencalais.com/dochash-1/9fd57959-ed47-3c5f-b005-96395e16e30c/meta\"><rdf:type rdf:resource=\"http://s.opencalais.com/1/type/sys/DocInfoMeta\"/><c:docId rdf:resource=\"http://d.opencalais.com/dochash-1/9fd57959-ed47-3c5f-b005-96395e16e30c\"/><c:submitterCode>0ca6a864-5659-789d-5f32-f365f695e757</c:submitterCode><c:signature>digestalg-1|C6C98at5AkizPVReeJ1UZoav+b0=|CSTJfdsPzcsu7ddfIH+I9CdHCq2EstITCYk7MIO3gfUaaDOoqxLNNA==</c:signature></rdf:Description><rdf:Description rdf:about=\"http://d.opencalais.com/dochash-1/9fd57959-ed47-3c5f-b005-96395e16e30c/ComponentVersions\"><rdf:type rdf:resource=\"http://s.opencalais.com/1/type/sys/ComponentVersions\"/><c:docId rdf:resource=\"http://d.opencalais.com/dochash-1/9fd57959-ed47-3c5f-b005-96395e16e30c\"/><c:version>Deals Index:201704031500:201704031500</c:version><c:version>DIY-Categorization-fnr-TRCS-indx_stsale:20170315124018:20170315124018</c:version><c:version>index-refineries:201704011439:201704011439</c:version><c:version>config-physicalAssets-powerStations:590:590</c:version><c:version>NextTags:OneCalais_10.5-RELEASE:151</c:version><c:version>config-sca-DataPackage:38:38</c:version><c:version>DIY-Categorization-fnr-TRCS-hedge_list1:20170315123823:20170315123823</c:version><c:version>People Index:201704031355:201704031355</c:version><c:version>config-negativeSignature:590:590</c:version><c:version>Dial4J:OneCalais_8.6-RELEASE:209</c:version><c:version>DIY-Categorization-fnr-TRCS-dbtr_new:20170315123740:20170315123740</c:version><c:version>OA Override:612:612</c:version><c:version>People Override:590:590</c:version><c:version>DIY-Categorization-fnr-TRCS-hrgt_recll:20170315123936:20170315123936</c:version><c:version>index-company-oa3:201704030435:201704030435</c:version><c:version>index-vessels:201704012019:201704012019</c:version><c:version>config-refineries:590:590</c:version><c:version>DIY-Categorization-fnr-TRCS-class:20170315123207:20170315123207</c:version><c:version>config-cse:612:612</c:version><c:version>DIY-Categorization-fnr-TRCS-isu_dat_r:20170315124144:20170315124144</c:version><c:version>DIY-Categorization-fnr-TRCS-cnsl_sisu:20170315123606:20170315123606</c:version><c:version>config-vessels:590:590</c:version><c:version>OneCalais:OneCalais_10.5-RELEASE:151</c:version><c:version>DIY-RCS-fnr-TRCS-cavs:1:1</c:version><c:version>DIY-RCS-fnr-TRCS-nd:1:1</c:version><c:version>config-physicalAssets-mines:590:590</c:version><c:version>SocialTags Index:201703240009:201703240009</c:version><c:version>BlackList:612:612</c:version><c:version>index-ports:201704012033:201704012033</c:version><c:version>config-physicalAssets-ports:590:590</c:version><c:version>config-drugs:590:590</c:version></rdf:Description><rdf:Description rdf:about=\"http://d.opencalais.com/dochash-1/9fd57959-ed47-3c5f-b005-96395e16e30c/lid/DefaultLangId\"><rdf:type rdf:resource=\"http://s.opencalais.com/1/type/lid/DefaultLangId\"/><c:docId rdf:resource=\"http://d.opencalais.com/dochash-1/9fd57959-ed47-3c5f-b005-96395e16e30c\"/><c:lang rdf:resource=\"http://d.opencalais.com/lid/DefaultLangId/English\"/><c:forenduserdisplay>false</c:forenduserdisplay><c:permid>505062</c:permid></rdf:Description><rdf:Description rdf:about=\"http://d.opencalais.com/dochash-1/9fd57959-ed47-3c5f-b005-96395e16e30c/SocialTag/1\"><rdf:type rdf:resource=\"http://s.opencalais.com/1/type/tag/SocialTag\"/><c:docId rdf:resource=\"http://d.opencalais.com/dochash-1/9fd57959-ed47-3c5f-b005-96395e16e30c\"/><c:socialtag rdf:resource=\"http://d.opencalais.com/genericHasher-1/4f9a3d55-33f5-3738-a2f7-3e9065a5a169\"/><c:forenduserdisplay>true</c:forenduserdisplay><c:name>Computing</c:name><c:importance>1</c:importance><c:originalValue>Computing</c:originalValue></rdf:Description><rdf:Description rdf:about=\"http://d.opencalais.com/dochash-1/9fd57959-ed47-3c5f-b005-96395e16e30c/SocialTag/2\"><rdf:type rdf:resource=\"http://s.opencalais.com/1/type/tag/SocialTag\"/><c:docId rdf:resource=\"http://d.opencalais.com/dochash-1/9fd57959-ed47-3c5f-b005-96395e16e30c\"/><c:socialtag rdf:resource=\"http://d.opencalais.com/genericHasher-1/16293516-a848-3162-8f98-a310581b027d\"/><c:forenduserdisplay>true</c:forenduserdisplay><c:name>Software</c:name><c:importance>1</c:importance><c:originalValue>Software</c:originalValue></rdf:Description><rdf:Description rdf:about=\"http://d.opencalais.com/dochash-1/9fd57959-ed47-3c5f-b005-96395e16e30c/SocialTag/3\"><rdf:type rdf:resource=\"http://s.opencalais.com/1/type/tag/SocialTag\"/><c:docId rdf:resource=\"http://d.opencalais.com/dochash-1/9fd57959-ed47-3c5f-b005-96395e16e30c\"/><c:socialtag rdf:resource=\"http://d.opencalais.com/genericHasher-1/1205cb52-d703-34d2-83b2-a09d4d47575c\"/><c:forenduserdisplay>true</c:forenduserdisplay><c:name>Apple Inc.</c:name><c:importance>1</c:importance><c:originalValue>Apple Inc.</c:originalValue></rdf:Description><rdf:Description rdf:about=\"http://d.opencalais.com/dochash-1/9fd57959-ed47-3c5f-b005-96395e16e30c/SocialTag/4\"><rdf:type rdf:resource=\"http://s.opencalais.com/1/type/tag/SocialTag\"/><c:docId rdf:resource=\"http://d.opencalais.com/dochash-1/9fd57959-ed47-3c5f-b005-96395e16e30c\"/><c:socialtag rdf:resource=\"http://d.opencalais.com/genericHasher-1/cd301fe3-fe6c-334b-81ab-1cff543a3f7d\"/><c:forenduserdisplay>true</c:forenduserdisplay><c:name>Mach</c:name><c:importance>2</c:importance><c:originalValue>Mach (kernel)</c:originalValue></rdf:Description><rdf:Description rdf:about=\"http://d.opencalais.com/dochash-1/9fd57959-ed47-3c5f-b005-96395e16e30c/SocialTag/5\"><rdf:type rdf:resource=\"http://s.opencalais.com/1/type/tag/SocialTag\"/><c:docId rdf:resource=\"http://d.opencalais.com/dochash-1/9fd57959-ed47-3c5f-b005-96395e16e30c\"/><c:socialtag rdf:resource=\"http://d.opencalais.com/genericHasher-1/44f3d909-af99-3087-a67b-4f78aea88754\"/><c:forenduserdisplay>true</c:forenduserdisplay><c:name>Cloud applications</c:name><c:importance>2</c:importance><c:originalValue>Cloud applications</c:originalValue></rdf:Description><rdf:Description rdf:about=\"http://d.opencalais.com/dochash-1/9fd57959-ed47-3c5f-b005-96395e16e30c/SocialTag/6\"><rdf:type rdf:resource=\"http://s.opencalais.com/1/type/tag/SocialTag\"/><c:docId rdf:resource=\"http://d.opencalais.com/dochash-1/9fd57959-ed47-3c5f-b005-96395e16e30c\"/><c:socialtag rdf:resource=\"http://d.opencalais.com/genericHasher-1/01440f3e-3cf0-3298-b0ad-fa081e96e5d9\"/><c:forenduserdisplay>true</c:forenduserdisplay><c:name>Cloud storage</c:name><c:importance>2</c:importance><c:originalValue>Cloud storage</c:originalValue></rdf:Description><rdf:Description rdf:about=\"http://d.opencalais.com/dochash-1/9fd57959-ed47-3c5f-b005-96395e16e30c/SocialTag/7\"><rdf:type rdf:resource=\"http://s.opencalais.com/1/type/tag/SocialTag\"/><c:docId rdf:resource=\"http://d.opencalais.com/dochash-1/9fd57959-ed47-3c5f-b005-96395e16e30c\"/><c:socialtag rdf:resource=\"http://d.opencalais.com/genericHasher-1/605c48a4-b429-396e-bee7-695f8f99b6c0\"/><c:forenduserdisplay>true</c:forenduserdisplay><c:name>Webmail</c:name><c:importance>2</c:importance><c:originalValue>Webmail</c:originalValue></rdf:Description><rdf:Description rdf:about=\"http://d.opencalais.com/dochash-1/9fd57959-ed47-3c5f-b005-96395e16e30c/SocialTag/8\"><rdf:type rdf:resource=\"http://s.opencalais.com/1/type/tag/SocialTag\"/><c:docId rdf:resource=\"http://d.opencalais.com/dochash-1/9fd57959-ed47-3c5f-b005-96395e16e30c\"/><c:socialtag rdf:resource=\"http://d.opencalais.com/genericHasher-1/93511881-ab5b-3bd5-8f7b-c12bb17d2f38\"/><c:forenduserdisplay>true</c:forenduserdisplay><c:name>IOS</c:name><c:importance>2</c:importance><c:originalValue>IOS (Apple)</c:originalValue></rdf:Description><rdf:Description rdf:about=\"http://d.opencalais.com/dochash-1/9fd57959-ed47-3c5f-b005-96395e16e30c/SocialTag/9\"><rdf:type rdf:resource=\"http://s.opencalais.com/1/type/tag/SocialTag\"/><c:docId rdf:resource=\"http://d.opencalais.com/dochash-1/9fd57959-ed47-3c5f-b005-96395e16e30c\"/><c:socialtag rdf:resource=\"http://d.opencalais.com/genericHasher-1/cc074a37-8e27-3982-955d-8a993022cedc\"/><c:forenduserdisplay>true</c:forenduserdisplay><c:name>ICloud</c:name><c:importance>2</c:importance><c:originalValue>ICloud</c:originalValue></rdf:Description><rdf:Description rdf:about=\"http://d.opencalais.com/dochash-1/9fd57959-ed47-3c5f-b005-96395e16e30c/SocialTag/10\"><rdf:type rdf:resource=\"http://s.opencalais.com/1/type/tag/SocialTag\"/><c:docId rdf:resource=\"http://d.opencalais.com/dochash-1/9fd57959-ed47-3c5f-b005-96395e16e30c\"/><c:socialtag rdf:resource=\"http://d.opencalais.com/genericHasher-1/2c4f4184-8feb-34eb-83a3-b5382dcf405d\"/><c:forenduserdisplay>true</c:forenduserdisplay><c:name>Apple Worldwide Developers Conference</c:name><c:importance>2</c:importance><c:originalValue>Apple Worldwide Developers Conference</c:originalValue></rdf:Description><rdf:Description rdf:about=\"http://d.opencalais.com/dochash-1/9fd57959-ed47-3c5f-b005-96395e16e30c/SocialTag/11\"><rdf:type rdf:resource=\"http://s.opencalais.com/1/type/tag/SocialTag\"/><c:docId rdf:resource=\"http://d.opencalais.com/dochash-1/9fd57959-ed47-3c5f-b005-96395e16e30c\"/><c:socialtag rdf:resource=\"http://d.opencalais.com/genericHasher-1/3c360ad1-bee6-35c5-a6ac-a787dfe8e2fe\"/><c:forenduserdisplay>true</c:forenduserdisplay><c:name>Mac OS X Lion</c:name><c:importance>2</c:importance><c:originalValue>Mac OS X Lion</c:originalValue></rdf:Description><rdf:Description rdf:about=\"http://d.opencalais.com/dochash-1/9fd57959-ed47-3c5f-b005-96395e16e30c/SocialTag/12\"><rdf:type rdf:resource=\"http://s.opencalais.com/1/type/tag/SocialTag\"/><c:docId rdf:resource=\"http://d.opencalais.com/dochash-1/9fd57959-ed47-3c5f-b005-96395e16e30c\"/><c:socialtag rdf:resource=\"http://d.opencalais.com/genericHasher-1/b17fae8e-e2ec-3c98-932d-d92ae0b6a181\"/><c:forenduserdisplay>true</c:forenduserdisplay><c:name>MacOS</c:name><c:importance>2</c:importance><c:originalValue>MacOS</c:originalValue></rdf:Description><rdf:Description rdf:about=\"http://d.opencalais.com/dochash-1/9fd57959-ed47-3c5f-b005-96395e16e30c/cat/1\"><rdf:type rdf:resource=\"http://s.opencalais.com/1/type/cat/DocCat\"/><c:docId rdf:resource=\"http://d.opencalais.com/dochash-1/9fd57959-ed47-3c5f-b005-96395e16e30c\"/><c:forenduserdisplay>false</c:forenduserdisplay><c:score>1.000</c:score><c:name>Technology_Internet</c:name></rdf:Description><rdf:Description rdf:about=\"http://d.opencalais.com/genericHasher-1/e0feb730-9fc5-3365-9862-a384af633ecc\"><rdf:type rdf:resource=\"http://s.opencalais.com/1/type/em/e/OperatingSystem\"/><c:forenduserdisplay>false</c:forenduserdisplay><c:name>Mac OS X</c:name></rdf:Description><rdf:Description rdf:about=\"http://d.opencalais.com/dochash-1/9fd57959-ed47-3c5f-b005-96395e16e30c/Instance/1\"><rdf:type rdf:resource=\"http://s.opencalais.com/1/type/sys/InstanceInfo\"/><c:docId rdf:resource=\"http://d.opencalais.com/dochash-1/9fd57959-ed47-3c5f-b005-96395e16e30c\"/><c:subject rdf:resource=\"http://d.opencalais.com/genericHasher-1/e0feb730-9fc5-3365-9862-a384af633ecc\"/><!--OperatingSystem: Mac OS X; --><c:detection>[new mobile operating system iOS 5, PC software ]OS X[ Lion, and the unveiling of the]</c:detection><c:prefix>new mobile operating system iOS 5, PC software </c:prefix><c:exact>OS X</c:exact><c:suffix> Lion, and the unveiling of the</c:suffix><c:offset>148</c:offset><c:length>4</c:length></rdf:Description><rdf:Description rdf:about=\"http://d.opencalais.com/dochash-1/9fd57959-ed47-3c5f-b005-96395e16e30c/Relevance/1\"><rdf:type rdf:resource=\"http://s.opencalais.com/1/type/sys/RelevanceInfo\"/><c:docId rdf:resource=\"http://d.opencalais.com/dochash-1/9fd57959-ed47-3c5f-b005-96395e16e30c\"/><c:subject rdf:resource=\"http://d.opencalais.com/genericHasher-1/e0feb730-9fc5-3365-9862-a384af633ecc\"/><c:relevance>0.2</c:relevance></rdf:Description><rdf:Description rdf:about=\"http://d.opencalais.com/genericHasher-1/05ddd98f-097f-3701-a737-6fd2555f411c\"><rdf:type rdf:resource=\"http://s.opencalais.com/1/type/em/e/Technology\"/><c:forenduserdisplay>false</c:forenduserdisplay><c:name>operating system</c:name></rdf:Description><rdf:Description rdf:about=\"http://d.opencalais.com/dochash-1/9fd57959-ed47-3c5f-b005-96395e16e30c/Instance/2\"><rdf:type rdf:resource=\"http://s.opencalais.com/1/type/sys/InstanceInfo\"/><c:docId rdf:resource=\"http://d.opencalais.com/dochash-1/9fd57959-ed47-3c5f-b005-96395e16e30c\"/><c:subject rdf:resource=\"http://d.opencalais.com/genericHasher-1/05ddd98f-097f-3701-a737-6fd2555f411c\"/><!--Technology: operating system; --><c:detection>[Conference Monday, including the new mobile ]operating system[ iOS 5, PC software OS X Lion, and the unveiling]</c:detection><c:prefix>Conference Monday, including the new mobile </c:prefix><c:exact>operating system</c:exact><c:suffix> iOS 5, PC software OS X Lion, and the unveiling</c:suffix><c:offset>112</c:offset><c:length>16</c:length></rdf:Description><rdf:Description rdf:about=\"http://d.opencalais.com/dochash-1/9fd57959-ed47-3c5f-b005-96395e16e30c/Relevance/2\"><rdf:type rdf:resource=\"http://s.opencalais.com/1/type/sys/RelevanceInfo\"/><c:docId rdf:resource=\"http://d.opencalais.com/dochash-1/9fd57959-ed47-3c5f-b005-96395e16e30c\"/><c:subject rdf:resource=\"http://d.opencalais.com/genericHasher-1/05ddd98f-097f-3701-a737-6fd2555f411c\"/><c:relevance>0.2</c:relevance></rdf:Description></rdf:RDF>'"
      ]
     },
     "execution_count": 93,
     "metadata": {},
     "output_type": "execute_result"
    }
   ],
   "source": [
    "response.text"
   ]
  },
  {
   "cell_type": "code",
   "execution_count": 83,
   "metadata": {
    "collapsed": false
   },
   "outputs": [
    {
     "data": {
      "text/plain": [
       "'Mon, 03 Apr 2017 14:53:46 GMT'"
      ]
     },
     "execution_count": 83,
     "metadata": {},
     "output_type": "execute_result"
    }
   ],
   "source": [
    "response['date']"
   ]
  },
  {
   "cell_type": "code",
   "execution_count": 74,
   "metadata": {
    "collapsed": false
   },
   "outputs": [
    {
     "ename": "AttributeError",
     "evalue": "'Response' object has no attribute 'read'",
     "output_type": "error",
     "traceback": [
      "\u001b[0;31m---------------------------------------------------------------------------\u001b[0m",
      "\u001b[0;31mAttributeError\u001b[0m                            Traceback (most recent call last)",
      "\u001b[0;32m<ipython-input-74-728dacfb5778>\u001b[0m in \u001b[0;36m<module>\u001b[0;34m()\u001b[0m\n\u001b[1;32m      2\u001b[0m \u001b[0;34m\u001b[0m\u001b[0m\n\u001b[1;32m      3\u001b[0m \u001b[0mreader\u001b[0m \u001b[0;34m=\u001b[0m \u001b[0mcodecs\u001b[0m\u001b[0;34m.\u001b[0m\u001b[0mgetreader\u001b[0m\u001b[0;34m(\u001b[0m\u001b[0;34m\"utf-8\"\u001b[0m\u001b[0;34m)\u001b[0m\u001b[0;34m\u001b[0m\u001b[0m\n\u001b[0;32m----> 4\u001b[0;31m \u001b[0mobj\u001b[0m \u001b[0;34m=\u001b[0m \u001b[0mjson\u001b[0m\u001b[0;34m.\u001b[0m\u001b[0mload\u001b[0m\u001b[0;34m(\u001b[0m\u001b[0mreader\u001b[0m\u001b[0;34m(\u001b[0m\u001b[0mrespnse\u001b[0m\u001b[0;34m)\u001b[0m\u001b[0;34m)\u001b[0m\u001b[0;34m\u001b[0m\u001b[0m\n\u001b[0m",
      "\u001b[0;32m/home/ubuntu/anaconda3/lib/python3.6/json/__init__.py\u001b[0m in \u001b[0;36mload\u001b[0;34m(fp, cls, object_hook, parse_float, parse_int, parse_constant, object_pairs_hook, **kw)\u001b[0m\n\u001b[1;32m    294\u001b[0m \u001b[0;34m\u001b[0m\u001b[0m\n\u001b[1;32m    295\u001b[0m     \"\"\"\n\u001b[0;32m--> 296\u001b[0;31m     return loads(fp.read(),\n\u001b[0m\u001b[1;32m    297\u001b[0m         \u001b[0mcls\u001b[0m\u001b[0;34m=\u001b[0m\u001b[0mcls\u001b[0m\u001b[0;34m,\u001b[0m \u001b[0mobject_hook\u001b[0m\u001b[0;34m=\u001b[0m\u001b[0mobject_hook\u001b[0m\u001b[0;34m,\u001b[0m\u001b[0;34m\u001b[0m\u001b[0m\n\u001b[1;32m    298\u001b[0m         \u001b[0mparse_float\u001b[0m\u001b[0;34m=\u001b[0m\u001b[0mparse_float\u001b[0m\u001b[0;34m,\u001b[0m \u001b[0mparse_int\u001b[0m\u001b[0;34m=\u001b[0m\u001b[0mparse_int\u001b[0m\u001b[0;34m,\u001b[0m\u001b[0;34m\u001b[0m\u001b[0m\n",
      "\u001b[0;32m/home/ubuntu/anaconda3/lib/python3.6/codecs.py\u001b[0m in \u001b[0;36mread\u001b[0;34m(self, size, chars, firstline)\u001b[0m\n\u001b[1;32m    491\u001b[0m             \u001b[0;31m# we need more data\u001b[0m\u001b[0;34m\u001b[0m\u001b[0;34m\u001b[0m\u001b[0m\n\u001b[1;32m    492\u001b[0m             \u001b[0;32mif\u001b[0m \u001b[0msize\u001b[0m \u001b[0;34m<\u001b[0m \u001b[0;36m0\u001b[0m\u001b[0;34m:\u001b[0m\u001b[0;34m\u001b[0m\u001b[0m\n\u001b[0;32m--> 493\u001b[0;31m                 \u001b[0mnewdata\u001b[0m \u001b[0;34m=\u001b[0m \u001b[0mself\u001b[0m\u001b[0;34m.\u001b[0m\u001b[0mstream\u001b[0m\u001b[0;34m.\u001b[0m\u001b[0mread\u001b[0m\u001b[0;34m(\u001b[0m\u001b[0;34m)\u001b[0m\u001b[0;34m\u001b[0m\u001b[0m\n\u001b[0m\u001b[1;32m    494\u001b[0m             \u001b[0;32melse\u001b[0m\u001b[0;34m:\u001b[0m\u001b[0;34m\u001b[0m\u001b[0m\n\u001b[1;32m    495\u001b[0m                 \u001b[0mnewdata\u001b[0m \u001b[0;34m=\u001b[0m \u001b[0mself\u001b[0m\u001b[0;34m.\u001b[0m\u001b[0mstream\u001b[0m\u001b[0;34m.\u001b[0m\u001b[0mread\u001b[0m\u001b[0;34m(\u001b[0m\u001b[0msize\u001b[0m\u001b[0;34m)\u001b[0m\u001b[0;34m\u001b[0m\u001b[0m\n",
      "\u001b[0;31mAttributeError\u001b[0m: 'Response' object has no attribute 'read'"
     ]
    }
   ],
   "source": [
    "import codecs\n",
    "\n",
    "reader = codecs.getreader(\"utf-8\")\n",
    "obj = json.load(reader(response))"
   ]
  },
  {
   "cell_type": "code",
   "execution_count": 57,
   "metadata": {
    "collapsed": false
   },
   "outputs": [
    {
     "data": {
      "text/plain": [
       "'<?xml version=\"1.0\" encoding=\"UTF-8\"?>\\n<!--Use of the Calais Web Service is governed by the Terms of Service located at http://www.opencalais.com. By using this service or the results of the service you agree to these terms of service.--><!--Relations: \\nOperatingSystem: Mac OS X\\nTechnology: operating system\\n--><rdf:RDF xmlns:rdf=\"http://www.w3.org/1999/02/22-rdf-syntax-ns#\" xmlns:c=\"http://s.opencalais.com/1/pred/\"><rdf:Description c:calaisRequestID=\"6553e9f2-f5ac-f287-15b3-44eb9c71550d\" c:id=\"http://id.opencalais.com/S6d2YrOznlHE6VAD2LLsww\" c:ontology=\"http://mdaas-virtual-onecalais.int.thomsonreuters.com/owlschema/10.5/onecalais.owl.allmetadata.xml\" rdf:about=\"http://d.opencalais.com/dochash-1/9fd57959-ed47-3c5f-b005-96395e16e30c\"><rdf:type rdf:resource=\"http://s.opencalais.com/1/type/sys/DocInfo\"/><c:document><![CDATA[\\nSome huge announcements were made at Apple\\'s Worldwide Developer\\'s Conference Monday, including the new mobile operating system iOS 5, PC software OS X Lion, and the unveiling of the iCloud.\\n]]></c:document><c:docTitle/><c:docDate>2017-04-03 14:53:46.583</c:docDate></rdf:Description><rdf:Description c:contentType=\"text/raw\" c:language=\"English\" c:processingVer=\"AllMetadata\" c:serverVersion=\"OneCalais_10.5-RELEASE:151\" c:stagsVer=\"OneCalais_10.5-RELEASE-b1-2017-02-26_17:34:30\" c:submissionDate=\"2017-04-03 14:53:46.311\" rdf:about=\"http://d.opencalais.com/dochash-1/9fd57959-ed47-3c5f-b005-96395e16e30c/meta\"><rdf:type rdf:resource=\"http://s.opencalais.com/1/type/sys/DocInfoMeta\"/><c:docId rdf:resource=\"http://d.opencalais.com/dochash-1/9fd57959-ed47-3c5f-b005-96395e16e30c\"/><c:submitterCode>0ca6a864-5659-789d-5f32-f365f695e757</c:submitterCode><c:signature>digestalg-1|pzzJIXQ4RmN0c5JuAuXmJGger+Q=|SmBVg6iQifXBsDN9OGGfteYzXDA6vR5P2dDUc096Sc6+uDjWHR9uUg==</c:signature></rdf:Description><rdf:Description rdf:about=\"http://d.opencalais.com/dochash-1/9fd57959-ed47-3c5f-b005-96395e16e30c/ComponentVersions\"><rdf:type rdf:resource=\"http://s.opencalais.com/1/type/sys/ComponentVersions\"/><c:docId rdf:resource=\"http://d.opencalais.com/dochash-1/9fd57959-ed47-3c5f-b005-96395e16e30c\"/><c:version>Deals Index:201704031355:201704031355</c:version><c:version>DIY-Categorization-fnr-TRCS-indx_stsale:20170315124018:20170315124018</c:version><c:version>index-refineries:201704011439:201704011439</c:version><c:version>config-physicalAssets-powerStations:590:590</c:version><c:version>NextTags:OneCalais_10.5-RELEASE:151</c:version><c:version>config-sca-DataPackage:38:38</c:version><c:version>DIY-Categorization-fnr-TRCS-hedge_list1:20170315123823:20170315123823</c:version><c:version>People Index:201704031355:201704031355</c:version><c:version>config-negativeSignature:590:590</c:version><c:version>Dial4J:OneCalais_8.6-RELEASE:209</c:version><c:version>DIY-Categorization-fnr-TRCS-dbtr_new:20170315123740:20170315123740</c:version><c:version>OA Override:612:612</c:version><c:version>People Override:590:590</c:version><c:version>DIY-Categorization-fnr-TRCS-hrgt_recll:20170315123936:20170315123936</c:version><c:version>index-company-oa3:201704030435:201704030435</c:version><c:version>index-vessels:201704012019:201704012019</c:version><c:version>config-refineries:590:590</c:version><c:version>DIY-Categorization-fnr-TRCS-class:20170315123207:20170315123207</c:version><c:version>config-cse:612:612</c:version><c:version>DIY-Categorization-fnr-TRCS-isu_dat_r:20170315124144:20170315124144</c:version><c:version>DIY-Categorization-fnr-TRCS-cnsl_sisu:20170315123606:20170315123606</c:version><c:version>config-vessels:590:590</c:version><c:version>OneCalais:OneCalais_10.5-RELEASE:151</c:version><c:version>DIY-RCS-fnr-TRCS-cavs:1:1</c:version><c:version>DIY-RCS-fnr-TRCS-nd:1:1</c:version><c:version>config-physicalAssets-mines:590:590</c:version><c:version>SocialTags Index:201703240009:201703240009</c:version><c:version>BlackList:612:612</c:version><c:version>index-ports:201704012033:201704012033</c:version><c:version>config-physicalAssets-ports:590:590</c:version><c:version>config-drugs:590:590</c:version></rdf:Description><rdf:Description rdf:about=\"http://d.opencalais.com/dochash-1/9fd57959-ed47-3c5f-b005-96395e16e30c/lid/DefaultLangId\"><rdf:type rdf:resource=\"http://s.opencalais.com/1/type/lid/DefaultLangId\"/><c:docId rdf:resource=\"http://d.opencalais.com/dochash-1/9fd57959-ed47-3c5f-b005-96395e16e30c\"/><c:lang rdf:resource=\"http://d.opencalais.com/lid/DefaultLangId/English\"/><c:forenduserdisplay>false</c:forenduserdisplay><c:permid>505062</c:permid></rdf:Description><rdf:Description rdf:about=\"http://d.opencalais.com/dochash-1/9fd57959-ed47-3c5f-b005-96395e16e30c/SocialTag/1\"><rdf:type rdf:resource=\"http://s.opencalais.com/1/type/tag/SocialTag\"/><c:docId rdf:resource=\"http://d.opencalais.com/dochash-1/9fd57959-ed47-3c5f-b005-96395e16e30c\"/><c:socialtag rdf:resource=\"http://d.opencalais.com/genericHasher-1/4f9a3d55-33f5-3738-a2f7-3e9065a5a169\"/><c:forenduserdisplay>true</c:forenduserdisplay><c:name>Computing</c:name><c:importance>1</c:importance><c:originalValue>Computing</c:originalValue></rdf:Description><rdf:Description rdf:about=\"http://d.opencalais.com/dochash-1/9fd57959-ed47-3c5f-b005-96395e16e30c/SocialTag/2\"><rdf:type rdf:resource=\"http://s.opencalais.com/1/type/tag/SocialTag\"/><c:docId rdf:resource=\"http://d.opencalais.com/dochash-1/9fd57959-ed47-3c5f-b005-96395e16e30c\"/><c:socialtag rdf:resource=\"http://d.opencalais.com/genericHasher-1/16293516-a848-3162-8f98-a310581b027d\"/><c:forenduserdisplay>true</c:forenduserdisplay><c:name>Software</c:name><c:importance>1</c:importance><c:originalValue>Software</c:originalValue></rdf:Description><rdf:Description rdf:about=\"http://d.opencalais.com/dochash-1/9fd57959-ed47-3c5f-b005-96395e16e30c/SocialTag/3\"><rdf:type rdf:resource=\"http://s.opencalais.com/1/type/tag/SocialTag\"/><c:docId rdf:resource=\"http://d.opencalais.com/dochash-1/9fd57959-ed47-3c5f-b005-96395e16e30c\"/><c:socialtag rdf:resource=\"http://d.opencalais.com/genericHasher-1/1205cb52-d703-34d2-83b2-a09d4d47575c\"/><c:forenduserdisplay>true</c:forenduserdisplay><c:name>Apple Inc.</c:name><c:importance>1</c:importance><c:originalValue>Apple Inc.</c:originalValue></rdf:Description><rdf:Description rdf:about=\"http://d.opencalais.com/dochash-1/9fd57959-ed47-3c5f-b005-96395e16e30c/SocialTag/4\"><rdf:type rdf:resource=\"http://s.opencalais.com/1/type/tag/SocialTag\"/><c:docId rdf:resource=\"http://d.opencalais.com/dochash-1/9fd57959-ed47-3c5f-b005-96395e16e30c\"/><c:socialtag rdf:resource=\"http://d.opencalais.com/genericHasher-1/cd301fe3-fe6c-334b-81ab-1cff543a3f7d\"/><c:forenduserdisplay>true</c:forenduserdisplay><c:name>Mach</c:name><c:importance>2</c:importance><c:originalValue>Mach (kernel)</c:originalValue></rdf:Description><rdf:Description rdf:about=\"http://d.opencalais.com/dochash-1/9fd57959-ed47-3c5f-b005-96395e16e30c/SocialTag/5\"><rdf:type rdf:resource=\"http://s.opencalais.com/1/type/tag/SocialTag\"/><c:docId rdf:resource=\"http://d.opencalais.com/dochash-1/9fd57959-ed47-3c5f-b005-96395e16e30c\"/><c:socialtag rdf:resource=\"http://d.opencalais.com/genericHasher-1/44f3d909-af99-3087-a67b-4f78aea88754\"/><c:forenduserdisplay>true</c:forenduserdisplay><c:name>Cloud applications</c:name><c:importance>2</c:importance><c:originalValue>Cloud applications</c:originalValue></rdf:Description><rdf:Description rdf:about=\"http://d.opencalais.com/dochash-1/9fd57959-ed47-3c5f-b005-96395e16e30c/SocialTag/6\"><rdf:type rdf:resource=\"http://s.opencalais.com/1/type/tag/SocialTag\"/><c:docId rdf:resource=\"http://d.opencalais.com/dochash-1/9fd57959-ed47-3c5f-b005-96395e16e30c\"/><c:socialtag rdf:resource=\"http://d.opencalais.com/genericHasher-1/01440f3e-3cf0-3298-b0ad-fa081e96e5d9\"/><c:forenduserdisplay>true</c:forenduserdisplay><c:name>Cloud storage</c:name><c:importance>2</c:importance><c:originalValue>Cloud storage</c:originalValue></rdf:Description><rdf:Description rdf:about=\"http://d.opencalais.com/dochash-1/9fd57959-ed47-3c5f-b005-96395e16e30c/SocialTag/7\"><rdf:type rdf:resource=\"http://s.opencalais.com/1/type/tag/SocialTag\"/><c:docId rdf:resource=\"http://d.opencalais.com/dochash-1/9fd57959-ed47-3c5f-b005-96395e16e30c\"/><c:socialtag rdf:resource=\"http://d.opencalais.com/genericHasher-1/605c48a4-b429-396e-bee7-695f8f99b6c0\"/><c:forenduserdisplay>true</c:forenduserdisplay><c:name>Webmail</c:name><c:importance>2</c:importance><c:originalValue>Webmail</c:originalValue></rdf:Description><rdf:Description rdf:about=\"http://d.opencalais.com/dochash-1/9fd57959-ed47-3c5f-b005-96395e16e30c/SocialTag/8\"><rdf:type rdf:resource=\"http://s.opencalais.com/1/type/tag/SocialTag\"/><c:docId rdf:resource=\"http://d.opencalais.com/dochash-1/9fd57959-ed47-3c5f-b005-96395e16e30c\"/><c:socialtag rdf:resource=\"http://d.opencalais.com/genericHasher-1/93511881-ab5b-3bd5-8f7b-c12bb17d2f38\"/><c:forenduserdisplay>true</c:forenduserdisplay><c:name>IOS</c:name><c:importance>2</c:importance><c:originalValue>IOS (Apple)</c:originalValue></rdf:Description><rdf:Description rdf:about=\"http://d.opencalais.com/dochash-1/9fd57959-ed47-3c5f-b005-96395e16e30c/SocialTag/9\"><rdf:type rdf:resource=\"http://s.opencalais.com/1/type/tag/SocialTag\"/><c:docId rdf:resource=\"http://d.opencalais.com/dochash-1/9fd57959-ed47-3c5f-b005-96395e16e30c\"/><c:socialtag rdf:resource=\"http://d.opencalais.com/genericHasher-1/cc074a37-8e27-3982-955d-8a993022cedc\"/><c:forenduserdisplay>true</c:forenduserdisplay><c:name>ICloud</c:name><c:importance>2</c:importance><c:originalValue>ICloud</c:originalValue></rdf:Description><rdf:Description rdf:about=\"http://d.opencalais.com/dochash-1/9fd57959-ed47-3c5f-b005-96395e16e30c/SocialTag/10\"><rdf:type rdf:resource=\"http://s.opencalais.com/1/type/tag/SocialTag\"/><c:docId rdf:resource=\"http://d.opencalais.com/dochash-1/9fd57959-ed47-3c5f-b005-96395e16e30c\"/><c:socialtag rdf:resource=\"http://d.opencalais.com/genericHasher-1/2c4f4184-8feb-34eb-83a3-b5382dcf405d\"/><c:forenduserdisplay>true</c:forenduserdisplay><c:name>Apple Worldwide Developers Conference</c:name><c:importance>2</c:importance><c:originalValue>Apple Worldwide Developers Conference</c:originalValue></rdf:Description><rdf:Description rdf:about=\"http://d.opencalais.com/dochash-1/9fd57959-ed47-3c5f-b005-96395e16e30c/SocialTag/11\"><rdf:type rdf:resource=\"http://s.opencalais.com/1/type/tag/SocialTag\"/><c:docId rdf:resource=\"http://d.opencalais.com/dochash-1/9fd57959-ed47-3c5f-b005-96395e16e30c\"/><c:socialtag rdf:resource=\"http://d.opencalais.com/genericHasher-1/3c360ad1-bee6-35c5-a6ac-a787dfe8e2fe\"/><c:forenduserdisplay>true</c:forenduserdisplay><c:name>Mac OS X Lion</c:name><c:importance>2</c:importance><c:originalValue>Mac OS X Lion</c:originalValue></rdf:Description><rdf:Description rdf:about=\"http://d.opencalais.com/dochash-1/9fd57959-ed47-3c5f-b005-96395e16e30c/SocialTag/12\"><rdf:type rdf:resource=\"http://s.opencalais.com/1/type/tag/SocialTag\"/><c:docId rdf:resource=\"http://d.opencalais.com/dochash-1/9fd57959-ed47-3c5f-b005-96395e16e30c\"/><c:socialtag rdf:resource=\"http://d.opencalais.com/genericHasher-1/b17fae8e-e2ec-3c98-932d-d92ae0b6a181\"/><c:forenduserdisplay>true</c:forenduserdisplay><c:name>MacOS</c:name><c:importance>2</c:importance><c:originalValue>MacOS</c:originalValue></rdf:Description><rdf:Description rdf:about=\"http://d.opencalais.com/dochash-1/9fd57959-ed47-3c5f-b005-96395e16e30c/cat/1\"><rdf:type rdf:resource=\"http://s.opencalais.com/1/type/cat/DocCat\"/><c:docId rdf:resource=\"http://d.opencalais.com/dochash-1/9fd57959-ed47-3c5f-b005-96395e16e30c\"/><c:forenduserdisplay>false</c:forenduserdisplay><c:score>1.000</c:score><c:name>Technology_Internet</c:name></rdf:Description><rdf:Description rdf:about=\"http://d.opencalais.com/genericHasher-1/e0feb730-9fc5-3365-9862-a384af633ecc\"><rdf:type rdf:resource=\"http://s.opencalais.com/1/type/em/e/OperatingSystem\"/><c:forenduserdisplay>false</c:forenduserdisplay><c:name>Mac OS X</c:name></rdf:Description><rdf:Description rdf:about=\"http://d.opencalais.com/dochash-1/9fd57959-ed47-3c5f-b005-96395e16e30c/Instance/1\"><rdf:type rdf:resource=\"http://s.opencalais.com/1/type/sys/InstanceInfo\"/><c:docId rdf:resource=\"http://d.opencalais.com/dochash-1/9fd57959-ed47-3c5f-b005-96395e16e30c\"/><c:subject rdf:resource=\"http://d.opencalais.com/genericHasher-1/e0feb730-9fc5-3365-9862-a384af633ecc\"/><!--OperatingSystem: Mac OS X; --><c:detection>[new mobile operating system iOS 5, PC software ]OS X[ Lion, and the unveiling of the]</c:detection><c:prefix>new mobile operating system iOS 5, PC software </c:prefix><c:exact>OS X</c:exact><c:suffix> Lion, and the unveiling of the</c:suffix><c:offset>148</c:offset><c:length>4</c:length></rdf:Description><rdf:Description rdf:about=\"http://d.opencalais.com/dochash-1/9fd57959-ed47-3c5f-b005-96395e16e30c/Relevance/1\"><rdf:type rdf:resource=\"http://s.opencalais.com/1/type/sys/RelevanceInfo\"/><c:docId rdf:resource=\"http://d.opencalais.com/dochash-1/9fd57959-ed47-3c5f-b005-96395e16e30c\"/><c:subject rdf:resource=\"http://d.opencalais.com/genericHasher-1/e0feb730-9fc5-3365-9862-a384af633ecc\"/><c:relevance>0.2</c:relevance></rdf:Description><rdf:Description rdf:about=\"http://d.opencalais.com/genericHasher-1/05ddd98f-097f-3701-a737-6fd2555f411c\"><rdf:type rdf:resource=\"http://s.opencalais.com/1/type/em/e/Technology\"/><c:forenduserdisplay>false</c:forenduserdisplay><c:name>operating system</c:name></rdf:Description><rdf:Description rdf:about=\"http://d.opencalais.com/dochash-1/9fd57959-ed47-3c5f-b005-96395e16e30c/Instance/2\"><rdf:type rdf:resource=\"http://s.opencalais.com/1/type/sys/InstanceInfo\"/><c:docId rdf:resource=\"http://d.opencalais.com/dochash-1/9fd57959-ed47-3c5f-b005-96395e16e30c\"/><c:subject rdf:resource=\"http://d.opencalais.com/genericHasher-1/05ddd98f-097f-3701-a737-6fd2555f411c\"/><!--Technology: operating system; --><c:detection>[Conference Monday, including the new mobile ]operating system[ iOS 5, PC software OS X Lion, and the unveiling]</c:detection><c:prefix>Conference Monday, including the new mobile </c:prefix><c:exact>operating system</c:exact><c:suffix> iOS 5, PC software OS X Lion, and the unveiling</c:suffix><c:offset>112</c:offset><c:length>16</c:length></rdf:Description><rdf:Description rdf:about=\"http://d.opencalais.com/dochash-1/9fd57959-ed47-3c5f-b005-96395e16e30c/Relevance/2\"><rdf:type rdf:resource=\"http://s.opencalais.com/1/type/sys/RelevanceInfo\"/><c:docId rdf:resource=\"http://d.opencalais.com/dochash-1/9fd57959-ed47-3c5f-b005-96395e16e30c\"/><c:subject rdf:resource=\"http://d.opencalais.com/genericHasher-1/05ddd98f-097f-3701-a737-6fd2555f411c\"/><c:relevance>0.2</c:relevance></rdf:Description></rdf:RDF>'"
      ]
     },
     "execution_count": 57,
     "metadata": {},
     "output_type": "execute_result"
    }
   ],
   "source": [
    "str(content,'utf-8')"
   ]
  },
  {
   "cell_type": "code",
   "execution_count": null,
   "metadata": {
    "collapsed": true
   },
   "outputs": [],
   "source": [
    "def main():\n",
    "    try:\n",
    "        if len(sys.argv) < 4:\n",
    "            print '3 params are required: 1.input file full path, 2.output directory and 3.access token'\n",
    "            sys.exit(-1)\n",
    "        else:\n",
    "            input_file = sys.argv[1]\n",
    "            output_dir = sys.argv[2]\n",
    "            access_token = sys.argv[3]\n",
    "\n",
    "            if not os.path.exists(input_file):\n",
    "                print 'The file [%s] does not exist' % input_file\n",
    "                return\n",
    "            if not os.path.exists(output_dir):\n",
    "                os.makedirs(output_dir)\n",
    "\n",
    "        # headers = {'X-AG-Access-Token' : access_token, 'Content-Type' : 'text/raw', 'outputformat' : 'application/json'}\n",
    "        headers = {'X-AG-Access-Token' : access_token, 'Content-Type' : 'application/pdf', 'outputformat' : 'application/json'}\n",
    "        sendFiles(input_file, headers, output_dir)\n",
    "    except Exception, e:\n",
    "        print 'Error in connect ', e\n",
    "\n",
    "def sendFiles(files, headers, output_dir):\n",
    "    is_file = os.path.isfile(files)\n",
    "    if is_file == True:\n",
    "        sendFile(files, headers, output_dir)\n",
    "    else:\n",
    "        for file_name in os.listdir(files):\n",
    "            if os.path.isfile(file_name):\n",
    "                sendFile(file_name, headers, output_dir)\n",
    "            else:\n",
    "                sendFiles(file_name, headers, output_dir)\n",
    "\n",
    "def sendFile(file_name, headers, output_dir):\n",
    "    with open(file_name, 'rb') as input_data:\n",
    "        response = requests.post(calais_url, data=input_data, headers=headers, timeout=80)\n",
    "        print ('status code: %s' % response.status_code)\n",
    "        content = response.text\n",
    "        print ('Results received: %s' % content)\n",
    "        if response.status_code == 200:\n",
    "            saveFile(file_name, output_dir, content)\n",
    "\n",
    "def saveFile(file_name, output_dir, content):\n",
    "    output_file_name = os.path.basename(file_name) + '.xml'\n",
    "    output_file = open(os.path.join(output_dir, output_file_name), 'wb')\n",
    "    output_file.write(content.encode('utf-8'))\n",
    "    output_file.close()\n",
    "\n",
    "if __name__ == \"__main__\":\n",
    "   main()"
   ]
  }
 ],
 "metadata": {
  "kernelspec": {
   "display_name": "Python 3",
   "language": "python",
   "name": "python3"
  },
  "language_info": {
   "codemirror_mode": {
    "name": "ipython",
    "version": 3
   },
   "file_extension": ".py",
   "mimetype": "text/x-python",
   "name": "python",
   "nbconvert_exporter": "python",
   "pygments_lexer": "ipython3",
   "version": "3.6.0"
  }
 },
 "nbformat": 4,
 "nbformat_minor": 2
}
