{
 "cells": [
  {
   "cell_type": "markdown",
   "metadata": {
    "deletable": true,
    "editable": true
   },
   "source": [
    "# Babi End to End MemNN"
   ]
  },
  {
   "cell_type": "code",
   "execution_count": 1,
   "metadata": {
    "collapsed": true,
    "deletable": true,
    "editable": true
   },
   "outputs": [
    {
     "name": "stderr",
     "output_type": "stream",
     "text": [
      "Using TensorFlow backend.\n",
      "/home/jhoward/anaconda3/lib/python3.6/site-packages/sklearn/cross_validation.py:44: DeprecationWarning: This module was deprecated in version 0.18 in favor of the model_selection module into which all the refactored classes and functions are moved. Also note that the interface of the new CV iterators are different from that of this module. This module will be removed in 0.20.\n",
      "  \"This module will be removed in 0.20.\", DeprecationWarning)\n"
     ]
    }
   ],
   "source": [
    "%matplotlib inline\n",
    "import importlib, utils2; importlib.reload(utils2)\n",
    "from utils2 import *"
   ]
  },
  {
   "cell_type": "code",
   "execution_count": 2,
   "metadata": {
    "collapsed": true,
    "deletable": true,
    "editable": true
   },
   "outputs": [],
   "source": [
    "np.set_printoptions(4)\n",
    "cfg = K.tf.ConfigProto(gpu_options={'allow_growth': True})\n",
    "K.set_session(K.tf.Session(config=cfg))"
   ]
  },
  {
   "cell_type": "markdown",
   "metadata": {
    "deletable": true,
    "editable": true
   },
   "source": [
    "## Create datasets"
   ]
  },
  {
   "cell_type": "markdown",
   "metadata": {
    "deletable": true,
    "editable": true
   },
   "source": [
    "Code from this section is mainly taken from the babi-memnn example in the keras repo.\n",
    "\n",
    "* [Popular Science](http://www.popsci.com/facebook-ai)\n",
    "* [Slate](http://www.slate.com/blogs/future_tense/2016/06/28/facebook_s_ai_researchers_are_making_bots_smarter_by_giving_them_memory.html)"
   ]
  },
  {
   "cell_type": "code",
   "execution_count": 3,
   "metadata": {
    "collapsed": true,
    "deletable": true,
    "editable": true
   },
   "outputs": [],
   "source": [
    "def tokenize(sent):\n",
    "    return [x.strip() for x in re.split('(\\W+)?', sent) if x.strip()]"
   ]
  },
  {
   "cell_type": "code",
   "execution_count": 4,
   "metadata": {
    "collapsed": true,
    "deletable": true,
    "editable": true
   },
   "outputs": [],
   "source": [
    "def parse_stories(lines):\n",
    "    data = []\n",
    "    story = []\n",
    "    for line in lines:\n",
    "        line = line.decode('utf-8').strip()\n",
    "        nid, line = line.split(' ', 1)\n",
    "        if int(nid) == 1: story = []\n",
    "        if '\\t' in line:\n",
    "            q, a, supporting = line.split('\\t')\n",
    "            q = tokenize(q)\n",
    "            substory = None\n",
    "            substory = [[str(i)+\":\"]+x for i,x in enumerate(story) if x]\n",
    "            data.append((substory, q, a))\n",
    "            story.append('')\n",
    "        else: story.append(tokenize(line))\n",
    "    return data"
   ]
  },
  {
   "cell_type": "code",
   "execution_count": 5,
   "metadata": {
    "collapsed": true,
    "deletable": true,
    "editable": true
   },
   "outputs": [],
   "source": [
    "path = get_file('babi-tasks-v1-2.tar.gz', \n",
    "                origin='https://s3.amazonaws.com/text-datasets/babi_tasks_1-20_v1-2.tar.gz')\n",
    "tar = tarfile.open(path)"
   ]
  },
  {
   "cell_type": "code",
   "execution_count": 8,
   "metadata": {
    "collapsed": true,
    "deletable": true,
    "editable": true
   },
   "outputs": [],
   "source": [
    "challenges = {\n",
    "    # QA1 with 10,000 samples\n",
    "    'single_supporting_fact_10k': 'tasks_1-20_v1-2/en-10k/qa1_single-supporting-fact_{}.txt',\n",
    "    # QA2 with 10,000 samples\n",
    "    'two_supporting_facts_10k': 'tasks_1-20_v1-2/en-10k/qa2_two-supporting-facts_{}.txt',\n",
    "    'two_supporting_facts_1k': 'tasks_1-20_v1-2/en/qa2_two-supporting-facts_{}.txt',\n",
    "}\n",
    "challenge_type = 'single_supporting_fact_10k'\n",
    "# challenge_type = 'two_supporting_facts_10k'\n",
    "challenge = challenges[challenge_type]"
   ]
  },
  {
   "cell_type": "code",
   "execution_count": 9,
   "metadata": {
    "collapsed": true,
    "deletable": true,
    "editable": true
   },
   "outputs": [],
   "source": [
    "def get_stories(f):\n",
    "    data = parse_stories(f.readlines())\n",
    "    return [(story, q, answer) for story, q, answer in data]"
   ]
  },
  {
   "cell_type": "code",
   "execution_count": 10,
   "metadata": {
    "collapsed": true,
    "deletable": true,
    "editable": true
   },
   "outputs": [
    {
     "name": "stderr",
     "output_type": "stream",
     "text": [
      "/home/jhoward/anaconda3/lib/python3.6/re.py:212: FutureWarning: split() requires a non-empty pattern match.\n",
      "  return _compile(pattern, flags).split(string, maxsplit)\n"
     ]
    }
   ],
   "source": [
    "train_stories = get_stories(tar.extractfile(challenge.format('train')))\n",
    "test_stories = get_stories(tar.extractfile(challenge.format('test')))"
   ]
  },
  {
   "cell_type": "code",
   "execution_count": 11,
   "metadata": {
    "collapsed": true,
    "deletable": true,
    "editable": true
   },
   "outputs": [],
   "source": [
    "stories = train_stories + test_stories"
   ]
  },
  {
   "cell_type": "code",
   "execution_count": 12,
   "metadata": {
    "collapsed": false,
    "deletable": true,
    "editable": true
   },
   "outputs": [],
   "source": [
    "story_maxlen = max((len(s) for x, _, _ in stories for s in x))\n",
    "story_maxsents = max((len(x) for x, _, _ in stories))\n",
    "query_maxlen = max(len(x) for _, x, _ in stories)"
   ]
  },
  {
   "cell_type": "code",
   "execution_count": 13,
   "metadata": {
    "collapsed": true,
    "deletable": true,
    "editable": true
   },
   "outputs": [],
   "source": [
    "def do_flatten(el): \n",
    "    return isinstance(el, collections.Iterable) and not isinstance(el, (str, bytes))\n",
    "def flatten(l):\n",
    "    for el in l:\n",
    "        if do_flatten(el): yield from flatten(el)\n",
    "        else: yield el"
   ]
  },
  {
   "cell_type": "code",
   "execution_count": 14,
   "metadata": {
    "collapsed": false,
    "deletable": true,
    "editable": true
   },
   "outputs": [],
   "source": [
    "vocab = sorted(set(flatten(stories)))\n",
    "vocab.insert(0, '<PAD>')\n",
    "vocab_size = len(vocab)"
   ]
  },
  {
   "cell_type": "code",
   "execution_count": 13,
   "metadata": {
    "collapsed": false,
    "deletable": true,
    "editable": true
   },
   "outputs": [
    {
     "data": {
      "text/plain": [
       "(10, 32, 8, 4, 10000, 1000)"
      ]
     },
     "execution_count": 13,
     "metadata": {},
     "output_type": "execute_result"
    }
   ],
   "source": [
    "story_maxsents, vocab_size, story_maxlen, query_maxlen, len(train_stories), len(test_stories)"
   ]
  },
  {
   "cell_type": "code",
   "execution_count": 14,
   "metadata": {
    "collapsed": false,
    "deletable": true,
    "editable": true,
    "scrolled": true
   },
   "outputs": [
    {
     "data": {
      "text/plain": [
       "([['0:', 'Mary', 'moved', 'to', 'the', 'office', '.'],\n",
       "  ['1:', 'John', 'moved', 'to', 'the', 'garden', '.'],\n",
       "  ['3:', 'Sandra', 'moved', 'to', 'the', 'bedroom', '.'],\n",
       "  ['4:', 'Sandra', 'went', 'back', 'to', 'the', 'office', '.'],\n",
       "  ['6:', 'John', 'went', 'to', 'the', 'bedroom', '.'],\n",
       "  ['7:', 'John', 'journeyed', 'to', 'the', 'garden', '.'],\n",
       "  ['9:', 'Daniel', 'went', 'back', 'to', 'the', 'hallway', '.'],\n",
       "  ['10:', 'John', 'journeyed', 'to', 'the', 'bedroom', '.'],\n",
       "  ['12:', 'Daniel', 'journeyed', 'to', 'the', 'bathroom', '.'],\n",
       "  ['13:', 'John', 'travelled', 'to', 'the', 'garden', '.']],\n",
       " ['Where', 'is', 'Daniel', '?'],\n",
       " 'bathroom')"
      ]
     },
     "execution_count": 14,
     "metadata": {},
     "output_type": "execute_result"
    }
   ],
   "source": [
    "test_stories[534]"
   ]
  },
  {
   "cell_type": "code",
   "execution_count": 15,
   "metadata": {
    "collapsed": true,
    "deletable": true,
    "editable": true
   },
   "outputs": [],
   "source": [
    "word_idx = dict((c, i) for i, c in enumerate(vocab))"
   ]
  },
  {
   "cell_type": "code",
   "execution_count": 16,
   "metadata": {
    "collapsed": true,
    "deletable": true,
    "editable": true
   },
   "outputs": [],
   "source": [
    "def vectorize_stories(data, word_idx, story_maxlen, query_maxlen):\n",
    "    X = []; Xq = []; Y = []\n",
    "    for story, query, answer in data:\n",
    "        x = [[word_idx[w] for w in s] for s in story]\n",
    "        xq = [word_idx[w] for w in query]\n",
    "        y = [word_idx[answer]]\n",
    "        X.append(x); Xq.append(xq); Y.append(y)\n",
    "    return ([pad_sequences(x, maxlen=story_maxlen) for x in X],\n",
    "            pad_sequences(Xq, maxlen=query_maxlen), np.array(Y))"
   ]
  },
  {
   "cell_type": "code",
   "execution_count": 17,
   "metadata": {
    "collapsed": false,
    "deletable": true,
    "editable": true
   },
   "outputs": [],
   "source": [
    "inputs_train, queries_train, answers_train = vectorize_stories(train_stories, \n",
    "     word_idx, story_maxlen, query_maxlen)\n",
    "inputs_test, queries_test, answers_test = vectorize_stories(test_stories, \n",
    "     word_idx, story_maxlen, query_maxlen)"
   ]
  },
  {
   "cell_type": "code",
   "execution_count": 18,
   "metadata": {
    "collapsed": true,
    "deletable": true,
    "editable": true
   },
   "outputs": [],
   "source": [
    "def stack_inputs(inputs):\n",
    "    for i,it in enumerate(inputs):\n",
    "        inputs[i] = np.concatenate([it, \n",
    "                           np.zeros((story_maxsents-it.shape[0],story_maxlen), 'int')])\n",
    "    return np.stack(inputs)\n",
    "inputs_train = stack_inputs(inputs_train)\n",
    "inputs_test = stack_inputs(inputs_test)"
   ]
  },
  {
   "cell_type": "code",
   "execution_count": 18,
   "metadata": {
    "collapsed": false,
    "deletable": true,
    "editable": true
   },
   "outputs": [
    {
     "data": {
      "text/plain": [
       "((10000, 10, 8), (1000, 10, 8))"
      ]
     },
     "execution_count": 18,
     "metadata": {},
     "output_type": "execute_result"
    }
   ],
   "source": [
    "inputs_train.shape, inputs_test.shape"
   ]
  },
  {
   "cell_type": "code",
   "execution_count": 19,
   "metadata": {
    "collapsed": true,
    "deletable": true,
    "editable": true
   },
   "outputs": [],
   "source": [
    "inps = [inputs_train, queries_train]\n",
    "val_inps = [inputs_test, queries_test]"
   ]
  },
  {
   "cell_type": "markdown",
   "metadata": {
    "deletable": true,
    "editable": true
   },
   "source": [
    "## Model"
   ]
  },
  {
   "cell_type": "code",
   "execution_count": 48,
   "metadata": {
    "collapsed": true,
    "deletable": true,
    "editable": true
   },
   "outputs": [],
   "source": [
    "emb_dim = 20\n",
    "parms = {'verbose': 2, 'callbacks': [TQDMNotebookCallback(leave_inner=False)]}"
   ]
  },
  {
   "cell_type": "code",
   "execution_count": 21,
   "metadata": {
    "collapsed": false,
    "deletable": true,
    "editable": true
   },
   "outputs": [],
   "source": [
    "def emb_sent_bow(inp):\n",
    "    emb = TimeDistributed(Embedding(vocab_size, emb_dim))(inp)\n",
    "    return Lambda(lambda x: K.sum(x, 2))(emb)"
   ]
  },
  {
   "cell_type": "code",
   "execution_count": 49,
   "metadata": {
    "collapsed": false,
    "deletable": true,
    "editable": true
   },
   "outputs": [
    {
     "data": {
      "text/plain": [
       "(TensorShape([Dimension(None), Dimension(10), Dimension(8)]),\n",
       " TensorShape([Dimension(None), Dimension(10), Dimension(20)]))"
      ]
     },
     "execution_count": 49,
     "metadata": {},
     "output_type": "execute_result"
    }
   ],
   "source": [
    "inp_story = Input((story_maxsents, story_maxlen))\n",
    "emb_story = emb_sent_bow(inp_story)\n",
    "inp_story.shape, emb_story.shape"
   ]
  },
  {
   "cell_type": "code",
   "execution_count": 50,
   "metadata": {
    "collapsed": false,
    "deletable": true,
    "editable": true
   },
   "outputs": [
    {
     "data": {
      "text/plain": [
       "(TensorShape([Dimension(None), Dimension(4)]),\n",
       " TensorShape([Dimension(None), Dimension(1), Dimension(20)]))"
      ]
     },
     "execution_count": 50,
     "metadata": {},
     "output_type": "execute_result"
    }
   ],
   "source": [
    "inp_q = Input((query_maxlen,))\n",
    "emb_q = Embedding(vocab_size, emb_dim)(inp_q)\n",
    "emb_q = Lambda(lambda x: K.sum(x, 1))(emb_q)\n",
    "emb_q = Reshape((1, emb_dim))(emb_q)\n",
    "inp_q.shape, emb_q.shape"
   ]
  },
  {
   "cell_type": "code",
   "execution_count": 51,
   "metadata": {
    "collapsed": false,
    "deletable": true,
    "editable": true
   },
   "outputs": [
    {
     "data": {
      "text/plain": [
       "TensorShape([Dimension(None), Dimension(10), Dimension(1)])"
      ]
     },
     "execution_count": 51,
     "metadata": {},
     "output_type": "execute_result"
    }
   ],
   "source": [
    "x = merge([emb_story, emb_q], mode='dot', dot_axes=2)\n",
    "x = Reshape((story_maxsents,))(x)\n",
    "x = Activation('softmax')(x)\n",
    "match = Reshape((story_maxsents,1))(x)\n",
    "match.shape"
   ]
  },
  {
   "cell_type": "code",
   "execution_count": 52,
   "metadata": {
    "collapsed": false,
    "deletable": true,
    "editable": true
   },
   "outputs": [],
   "source": [
    "emb_c = emb_sent_bow(inp_story)\n",
    "x = merge([match, emb_c], mode='dot', dot_axes=1)\n",
    "response = Reshape((emb_dim,))(x)\n",
    "res = Dense(vocab_size, activation='softmax')(response)"
   ]
  },
  {
   "cell_type": "code",
   "execution_count": 53,
   "metadata": {
    "collapsed": true,
    "deletable": true,
    "editable": true
   },
   "outputs": [],
   "source": [
    "answer = Model([inp_story, inp_q], res)"
   ]
  },
  {
   "cell_type": "code",
   "execution_count": 54,
   "metadata": {
    "collapsed": true,
    "deletable": true,
    "editable": true
   },
   "outputs": [],
   "source": [
    "answer.compile(optimizer='rmsprop', loss='sparse_categorical_crossentropy',\n",
    "               metrics=['accuracy'])"
   ]
  },
  {
   "cell_type": "code",
   "execution_count": 55,
   "metadata": {
    "collapsed": false,
    "deletable": true,
    "editable": true
   },
   "outputs": [
    {
     "name": "stdout",
     "output_type": "stream",
     "text": [
      "Train on 10000 samples, validate on 1000 samples\n",
      "Epoch 1/4\n",
      "1s - loss: 0.4320 - acc: 0.8527 - val_loss: 1.3040e-04 - val_acc: 1.0000\n",
      "Epoch 2/4\n",
      "1s - loss: 0.0036 - acc: 0.9993 - val_loss: 2.7034e-05 - val_acc: 1.0000\n",
      "Epoch 3/4\n",
      "1s - loss: 0.0118 - acc: 0.9979 - val_loss: 0.0045 - val_acc: 0.9970\n",
      "Epoch 4/4\n",
      "1s - loss: 0.0132 - acc: 0.9977 - val_loss: 2.1098e-05 - val_acc: 1.0000\n",
      "\n"
     ]
    }
   ],
   "source": [
    "K.set_value(answer.optimizer.lr, 1e-2)\n",
    "hist=answer.fit(inps, answers_train, **parms, nb_epoch=4, batch_size=32,\n",
    "           validation_data=(val_inps, answers_test))"
   ]
  },
  {
   "cell_type": "markdown",
   "metadata": {
    "collapsed": true,
    "deletable": true,
    "editable": true,
    "heading_collapsed": true
   },
   "source": [
    "## Test"
   ]
  },
  {
   "cell_type": "code",
   "execution_count": 31,
   "metadata": {
    "collapsed": false,
    "deletable": true,
    "editable": true,
    "hidden": true
   },
   "outputs": [],
   "source": [
    "f = Model([inp_story, inp_q], match)"
   ]
  },
  {
   "cell_type": "code",
   "execution_count": 33,
   "metadata": {
    "collapsed": true,
    "deletable": true,
    "editable": true,
    "hidden": true
   },
   "outputs": [],
   "source": [
    "qnum=6"
   ]
  },
  {
   "cell_type": "code",
   "execution_count": 34,
   "metadata": {
    "collapsed": false,
    "deletable": true,
    "editable": true,
    "hidden": true
   },
   "outputs": [
    {
     "data": {
      "text/plain": [
       "([['0:', 'Sandra', 'travelled', 'to', 'the', 'office', '.'],\n",
       "  ['1:', 'Sandra', 'went', 'to', 'the', 'bathroom', '.'],\n",
       "  ['3:', 'Mary', 'went', 'to', 'the', 'bedroom', '.'],\n",
       "  ['4:', 'Daniel', 'moved', 'to', 'the', 'hallway', '.']],\n",
       " ['Where', 'is', 'Sandra', '?'],\n",
       " 'bathroom')"
      ]
     },
     "execution_count": 34,
     "metadata": {},
     "output_type": "execute_result"
    }
   ],
   "source": [
    "l_st = len(train_stories[qnum][0])+1\n",
    "train_stories[qnum]"
   ]
  },
  {
   "cell_type": "code",
   "execution_count": 35,
   "metadata": {
    "collapsed": false,
    "deletable": true,
    "editable": true,
    "hidden": true
   },
   "outputs": [
    {
     "data": {
      "text/plain": [
       "array([  1.8035e-02,   9.8090e-01,   7.1948e-05,   9.8939e-04,   3.5892e-11], dtype=float32)"
      ]
     },
     "execution_count": 35,
     "metadata": {},
     "output_type": "execute_result"
    }
   ],
   "source": [
    "np.squeeze(f.predict([inputs_train[qnum:qnum+1], queries_train[qnum:qnum+1]]))[:l_st]"
   ]
  },
  {
   "cell_type": "code",
   "execution_count": 36,
   "metadata": {
    "collapsed": false,
    "deletable": true,
    "editable": true,
    "hidden": true
   },
   "outputs": [
    {
     "data": {
      "text/plain": [
       "array([19, 19, 27, 22, 19, 20, 19, 19, 20, 20])"
      ]
     },
     "execution_count": 36,
     "metadata": {},
     "output_type": "execute_result"
    }
   ],
   "source": [
    "answers_train[qnum:qnum+10,0]"
   ]
  },
  {
   "cell_type": "code",
   "execution_count": 37,
   "metadata": {
    "collapsed": false,
    "deletable": true,
    "editable": true,
    "hidden": true
   },
   "outputs": [
    {
     "data": {
      "text/plain": [
       "array([19, 19, 27, 22, 19, 20, 19, 19, 20, 20])"
      ]
     },
     "execution_count": 37,
     "metadata": {},
     "output_type": "execute_result"
    }
   ],
   "source": [
    "np.argmax(answer.predict([inputs_train[qnum:qnum+10], queries_train[qnum:qnum+10]]), 1)"
   ]
  },
  {
   "cell_type": "code",
   "execution_count": 39,
   "metadata": {
    "collapsed": false,
    "deletable": true,
    "editable": true,
    "hidden": true
   },
   "outputs": [
    {
     "data": {
      "text/plain": [
       "array([[  2.7342e-12,   6.6743e-12,   8.4153e-12,   5.0037e-12,\n",
       "          6.6239e-12,   7.5889e-12,   1.7636e-11,   2.0748e-11,\n",
       "          1.4377e-11,   1.1266e-11,   8.6431e-12,   1.0421e-11,\n",
       "          1.6382e-11,   8.8259e-12,   8.7487e-12,   1.2887e-11,\n",
       "          8.8348e-12,   1.1246e-11,   4.5876e-12,   1.0000e+00,\n",
       "          4.7602e-10,   3.3521e-10,   6.1148e-10,   1.3745e-11,\n",
       "          1.4630e-11,   4.9215e-09,   1.2494e-11,   1.2910e-08,\n",
       "          4.1088e-12,   8.2288e-12,   8.0250e-12,   9.1950e-12]], dtype=float32)"
      ]
     },
     "execution_count": 39,
     "metadata": {},
     "output_type": "execute_result"
    }
   ],
   "source": [
    "answer.predict([inputs_train[qnum:qnum+1], queries_train[qnum:qnum+1]])"
   ]
  },
  {
   "cell_type": "code",
   "execution_count": 57,
   "metadata": {
    "collapsed": false,
    "deletable": true,
    "editable": true,
    "hidden": true
   },
   "outputs": [
    {
     "data": {
      "text/plain": [
       "'bathroom'"
      ]
     },
     "execution_count": 57,
     "metadata": {},
     "output_type": "execute_result"
    }
   ],
   "source": [
    "vocab[19]"
   ]
  },
  {
   "cell_type": "markdown",
   "metadata": {
    "deletable": true,
    "editable": true
   },
   "source": [
    "## Multi hop"
   ]
  },
  {
   "cell_type": "code",
   "execution_count": 70,
   "metadata": {
    "collapsed": false,
    "deletable": true,
    "editable": true
   },
   "outputs": [
    {
     "data": {
      "text/plain": [
       "([['0:', 'Mary', 'went', 'to', 'the', 'hallway', '.'],\n",
       "  ['1:', 'Daniel', 'went', 'back', 'to', 'the', 'bedroom', '.'],\n",
       "  ['2:', 'Sandra', 'went', 'back', 'to', 'the', 'garden', '.'],\n",
       "  ['3:', 'Mary', 'went', 'to', 'the', 'office', '.'],\n",
       "  ['4:', 'Mary', 'journeyed', 'to', 'the', 'kitchen', '.'],\n",
       "  ['5:', 'Sandra', 'moved', 'to', 'the', 'office', '.'],\n",
       "  ['6:', 'Sandra', 'journeyed', 'to', 'the', 'hallway', '.'],\n",
       "  ['7:', 'Daniel', 'journeyed', 'to', 'the', 'garden', '.'],\n",
       "  ['8:', 'Mary', 'journeyed', 'to', 'the', 'bathroom', '.'],\n",
       "  ['9:', 'John', 'went', 'back', 'to', 'the', 'bathroom', '.'],\n",
       "  ['10:', 'Sandra', 'travelled', 'to', 'the', 'garden', '.'],\n",
       "  ['11:', 'John', 'moved', 'to', 'the', 'office', '.'],\n",
       "  ['12:', 'Daniel', 'went', 'back', 'to', 'the', 'kitchen', '.'],\n",
       "  ['13:', 'Mary', 'moved', 'to', 'the', 'kitchen', '.'],\n",
       "  ['14:', 'Mary', 'moved', 'to', 'the', 'hallway', '.'],\n",
       "  ['15:', 'Mary', 'went', 'to', 'the', 'kitchen', '.'],\n",
       "  ['16:', 'Sandra', 'went', 'back', 'to', 'the', 'bedroom', '.'],\n",
       "  ['17:', 'Sandra', 'travelled', 'to', 'the', 'hallway', '.'],\n",
       "  ['18:', 'Sandra', 'travelled', 'to', 'the', 'kitchen', '.'],\n",
       "  ['19:', 'Sandra', 'moved', 'to', 'the', 'garden', '.'],\n",
       "  ['20:', 'Daniel', 'went', 'to', 'the', 'garden', '.'],\n",
       "  ['21:', 'Sandra', 'went', 'back', 'to', 'the', 'bathroom', '.'],\n",
       "  ['22:', 'John', 'moved', 'to', 'the', 'garden', '.'],\n",
       "  ['23:', 'Mary', 'went', 'to', 'the', 'bathroom', '.'],\n",
       "  ['24:', 'Daniel', 'travelled', 'to', 'the', 'kitchen', '.'],\n",
       "  ['25:', 'John', 'went', 'back', 'to', 'the', 'hallway', '.'],\n",
       "  ['26:', 'Sandra', 'went', 'back', 'to', 'the', 'hallway', '.'],\n",
       "  ['27:', 'Mary', 'went', 'to', 'the', 'hallway', '.'],\n",
       "  ['28:', 'Daniel', 'went', 'back', 'to', 'the', 'garden', '.'],\n",
       "  ['29:', 'Sandra', 'went', 'back', 'to', 'the', 'office', '.'],\n",
       "  ['30:', 'Sandra', 'moved', 'to', 'the', 'kitchen', '.'],\n",
       "  ['31:', 'Mary', 'travelled', 'to', 'the', 'garden', '.'],\n",
       "  ['32:', 'Sandra', 'went', 'to', 'the', 'garden', '.'],\n",
       "  ['33:', 'Daniel', 'journeyed', 'to', 'the', 'hallway', '.'],\n",
       "  ['34:', 'Mary', 'went', 'back', 'to', 'the', 'hallway', '.'],\n",
       "  ['35:', 'Daniel', 'travelled', 'to', 'the', 'garden', '.'],\n",
       "  ['36:', 'John', 'journeyed', 'to', 'the', 'bathroom', '.'],\n",
       "  ['37:', 'Daniel', 'travelled', 'to', 'the', 'hallway', '.'],\n",
       "  ['38:', 'Daniel', 'travelled', 'to', 'the', 'bedroom', '.'],\n",
       "  ['39:', 'Mary', 'went', 'back', 'to', 'the', 'kitchen', '.'],\n",
       "  ['40:', 'Daniel', 'went', 'to', 'the', 'office', '.'],\n",
       "  ['41:', 'John', 'journeyed', 'to', 'the', 'hallway', '.'],\n",
       "  ['42:', 'John', 'went', 'to', 'the', 'kitchen', '.'],\n",
       "  ['43:', 'Daniel', 'travelled', 'to', 'the', 'hallway', '.'],\n",
       "  ['44:', 'Sandra', 'went', 'back', 'to', 'the', 'kitchen', '.'],\n",
       "  ['45:', 'Mary', 'moved', 'to', 'the', 'office', '.'],\n",
       "  ['46:', 'Sandra', 'went', 'back', 'to', 'the', 'garden', '.'],\n",
       "  ['47:', 'Sandra', 'went', 'back', 'to', 'the', 'kitchen', '.'],\n",
       "  ['48:', 'Sandra', 'moved', 'to', 'the', 'garden', '.'],\n",
       "  ['49:', 'Sandra', 'moved', 'to', 'the', 'office', '.'],\n",
       "  ['50:', 'John', 'went', 'back', 'to', 'the', 'hallway', '.'],\n",
       "  ['51:', 'Daniel', 'went', 'to', 'the', 'garden', '.'],\n",
       "  ['52:', 'Sandra', 'travelled', 'to', 'the', 'kitchen', '.'],\n",
       "  ['53:', 'Sandra', 'moved', 'to', 'the', 'bathroom', '.'],\n",
       "  ['54:', 'John', 'journeyed', 'to', 'the', 'garden', '.'],\n",
       "  ['55:', 'Mary', 'moved', 'to', 'the', 'hallway', '.'],\n",
       "  ['56:', 'John', 'went', 'back', 'to', 'the', 'office', '.'],\n",
       "  ['57:', 'Mary', 'went', 'back', 'to', 'the', 'office', '.'],\n",
       "  ['58:', 'Daniel', 'travelled', 'to', 'the', 'bathroom', '.'],\n",
       "  ['59:', 'Sandra', 'travelled', 'to', 'the', 'hallway', '.'],\n",
       "  ['60:', 'Sandra', 'journeyed', 'to', 'the', 'bathroom', '.'],\n",
       "  ['61:', 'Sandra', 'travelled', 'to', 'the', 'bedroom', '.'],\n",
       "  ['62:', 'Mary', 'went', 'back', 'to', 'the', 'hallway', '.'],\n",
       "  ['63:', 'Sandra', 'travelled', 'to', 'the', 'kitchen', '.'],\n",
       "  ['64:', 'Daniel', 'travelled', 'to', 'the', 'garden', '.'],\n",
       "  ['65:', 'Daniel', 'journeyed', 'to', 'the', 'bedroom', '.'],\n",
       "  ['66:', 'Mary', 'journeyed', 'to', 'the', 'office', '.'],\n",
       "  ['67:', 'Sandra', 'went', 'back', 'to', 'the', 'office', '.'],\n",
       "  ['68:', 'John', 'travelled', 'to', 'the', 'hallway', '.'],\n",
       "  ['69:', 'Daniel', 'picked', 'up', 'the', 'milk', 'there', '.'],\n",
       "  ['70:', 'Daniel', 'picked', 'up', 'the', 'apple', 'there', '.'],\n",
       "  ['71:', 'Sandra', 'moved', 'to', 'the', 'hallway', '.'],\n",
       "  ['72:', 'John', 'journeyed', 'to', 'the', 'bedroom', '.'],\n",
       "  ['73:', 'John', 'went', 'back', 'to', 'the', 'garden', '.'],\n",
       "  ['74:', 'Sandra', 'journeyed', 'to', 'the', 'office', '.'],\n",
       "  ['75:', 'Sandra', 'moved', 'to', 'the', 'bedroom', '.'],\n",
       "  ['76:', 'Mary', 'moved', 'to', 'the', 'kitchen', '.'],\n",
       "  ['77:', 'Mary', 'went', 'to', 'the', 'office', '.'],\n",
       "  ['78:', 'Sandra', 'grabbed', 'the', 'football', 'there', '.'],\n",
       "  ['79:', 'Sandra', 'discarded', 'the', 'football', '.'],\n",
       "  ['81:', 'Daniel', 'took', 'the', 'football', 'there', '.'],\n",
       "  ['82:', 'Daniel', 'put', 'down', 'the', 'apple', 'there', '.'],\n",
       "  ['84:', 'Daniel', 'took', 'the', 'apple', 'there', '.'],\n",
       "  ['85:', 'Daniel', 'travelled', 'to', 'the', 'hallway', '.'],\n",
       "  ['87:', 'Sandra', 'journeyed', 'to', 'the', 'bathroom', '.'],\n",
       "  ['88:', 'Daniel', 'left', 'the', 'milk', 'there', '.'],\n",
       "  ['90:', 'Daniel', 'went', 'to', 'the', 'kitchen', '.'],\n",
       "  ['91:', 'Daniel', 'went', 'back', 'to', 'the', 'bathroom', '.']],\n",
       " ['Where', 'is', 'the', 'milk', '?'],\n",
       " 'hallway')"
      ]
     },
     "execution_count": 70,
     "metadata": {},
     "output_type": "execute_result"
    }
   ],
   "source": [
    "test_stories[534]"
   ]
  },
  {
   "cell_type": "code",
   "execution_count": 71,
   "metadata": {
    "collapsed": false,
    "deletable": true,
    "editable": true
   },
   "outputs": [
    {
     "data": {
      "text/plain": [
       "((10000, 88, 8), (1000, 88, 8))"
      ]
     },
     "execution_count": 71,
     "metadata": {},
     "output_type": "execute_result"
    }
   ],
   "source": [
    "inputs_train.shape, inputs_test.shape"
   ]
  },
  {
   "cell_type": "code",
   "execution_count": 94,
   "metadata": {
    "collapsed": true,
    "deletable": true,
    "editable": true
   },
   "outputs": [],
   "source": [
    "parms = {'verbose': 2, 'callbacks': [TQDMNotebookCallback(leave_inner=False)]}\n",
    "emb_dim = 30"
   ]
  },
  {
   "cell_type": "code",
   "execution_count": 95,
   "metadata": {
    "collapsed": false,
    "deletable": true,
    "editable": true
   },
   "outputs": [],
   "source": [
    "def emb_sent_bow(inp):\n",
    "    emb_op = TimeDistributed(Embedding(vocab_size, emb_dim))\n",
    "    emb = emb_op(inp)\n",
    "    emb = Lambda(lambda x: K.sum(x, 2))(emb)\n",
    "#     return Elemwise(0, False)(emb), emb_op\n",
    "    return emb, emb_op"
   ]
  },
  {
   "cell_type": "code",
   "execution_count": 96,
   "metadata": {
    "collapsed": false,
    "deletable": true,
    "editable": true
   },
   "outputs": [],
   "source": [
    "inp_story = Input((story_maxsents, story_maxlen))\n",
    "inp_q = Input((query_maxlen,))"
   ]
  },
  {
   "cell_type": "code",
   "execution_count": 97,
   "metadata": {
    "collapsed": false,
    "deletable": true,
    "editable": true
   },
   "outputs": [],
   "source": [
    "emb_story, emb_story_op = emb_sent_bow(inp_story)"
   ]
  },
  {
   "cell_type": "code",
   "execution_count": 98,
   "metadata": {
    "collapsed": false,
    "deletable": true,
    "editable": true
   },
   "outputs": [],
   "source": [
    "emb_q = emb_story_op.layer(inp_q)\n",
    "emb_q = Lambda(lambda x: K.sum(x, 1))(emb_q)"
   ]
  },
  {
   "cell_type": "code",
   "execution_count": 99,
   "metadata": {
    "collapsed": true,
    "deletable": true,
    "editable": true
   },
   "outputs": [],
   "source": [
    "h = Dense(emb_dim)"
   ]
  },
  {
   "cell_type": "code",
   "execution_count": 100,
   "metadata": {
    "collapsed": true,
    "deletable": true,
    "editable": true
   },
   "outputs": [],
   "source": [
    "def one_hop(u, A):\n",
    "    C, _ = emb_sent_bow(inp_story)\n",
    "    x = Reshape((1, emb_dim))(u)\n",
    "    x = merge([A, x], mode='dot', dot_axes=2)\n",
    "    x = Reshape((story_maxsents,))(x)\n",
    "    x = Activation('softmax')(x)\n",
    "    match = Reshape((story_maxsents,1))(x)\n",
    "\n",
    "    x = merge([match, C], mode='dot', dot_axes=1)\n",
    "    x = Reshape((emb_dim,))(x)\n",
    "    x = h(x)\n",
    "    x = merge([x, emb_q], 'sum')\n",
    "    return x, C"
   ]
  },
  {
   "cell_type": "code",
   "execution_count": 101,
   "metadata": {
    "collapsed": false,
    "deletable": true,
    "editable": true
   },
   "outputs": [],
   "source": [
    "response, emb_story = one_hop(emb_q, emb_story)\n",
    "response, emb_story = one_hop(response, emb_story)\n",
    "# response, emb_story = one_hop(response, emb_story)"
   ]
  },
  {
   "cell_type": "code",
   "execution_count": 102,
   "metadata": {
    "collapsed": false,
    "deletable": true,
    "editable": true
   },
   "outputs": [],
   "source": [
    "res = Dense(vocab_size, activation='softmax')(response)"
   ]
  },
  {
   "cell_type": "code",
   "execution_count": 103,
   "metadata": {
    "collapsed": false,
    "deletable": true,
    "editable": true
   },
   "outputs": [],
   "source": [
    "answer = Model([inp_story, inp_q], res)\n",
    "answer.compile(optimizer='rmsprop', loss='sparse_categorical_crossentropy',\n",
    "               metrics=['accuracy'])"
   ]
  },
  {
   "cell_type": "code",
   "execution_count": 104,
   "metadata": {
    "collapsed": false,
    "deletable": true,
    "editable": true,
    "scrolled": false
   },
   "outputs": [
    {
     "name": "stdout",
     "output_type": "stream",
     "text": [
      "Train on 10000 samples, validate on 1000 samples\n",
      "Epoch 1/8\n",
      "2s - loss: 1.7092 - acc: 0.2788 - val_loss: 1.3558 - val_acc: 0.4790\n",
      "Epoch 2/8\n",
      "2s - loss: 0.9756 - acc: 0.6360 - val_loss: 0.7827 - val_acc: 0.7020\n",
      "Epoch 3/8\n",
      "2s - loss: 0.6668 - acc: 0.7574 - val_loss: 0.7171 - val_acc: 0.7650\n",
      "Epoch 4/8\n",
      "2s - loss: 0.5795 - acc: 0.7955 - val_loss: 0.6547 - val_acc: 0.7790\n",
      "Epoch 5/8\n",
      "2s - loss: 0.5244 - acc: 0.8205 - val_loss: 0.5644 - val_acc: 0.8050\n",
      "Epoch 6/8\n",
      "2s - loss: 0.4731 - acc: 0.8476 - val_loss: 0.5577 - val_acc: 0.8210\n",
      "Epoch 7/8\n",
      "2s - loss: 0.4471 - acc: 0.8563 - val_loss: 0.5086 - val_acc: 0.8500\n",
      "Epoch 8/8\n",
      "2s - loss: 0.4274 - acc: 0.8686 - val_loss: 0.4933 - val_acc: 0.8480\n",
      "\n"
     ]
    }
   ],
   "source": [
    "K.set_value(answer.optimizer.lr, 5e-3)\n",
    "hist=answer.fit(inps, answers_train, **parms, nb_epoch=8, batch_size=32,\n",
    "           validation_data=(val_inps, answers_test))"
   ]
  },
  {
   "cell_type": "code",
   "execution_count": 34,
   "metadata": {
    "collapsed": false,
    "deletable": true,
    "editable": true
   },
   "outputs": [
    {
     "data": {
      "text/plain": [
       "array([ 0.976,  0.993,  1.   ,  0.999,  0.998,  0.999,  0.992,  0.999])"
      ]
     },
     "execution_count": 34,
     "metadata": {},
     "output_type": "execute_result"
    }
   ],
   "source": [
    "np.array(hist.history['val_acc'])"
   ]
  },
  {
   "cell_type": "markdown",
   "metadata": {
    "deletable": true,
    "editable": true
   },
   "source": [
    "## Custom bias layer"
   ]
  },
  {
   "cell_type": "code",
   "execution_count": 68,
   "metadata": {
    "collapsed": true,
    "deletable": true,
    "editable": true
   },
   "outputs": [],
   "source": [
    "class Elemwise(Layer):\n",
    "    def __init__(self, axis, is_mult, init='glorot_uniform', **kwargs):\n",
    "        self.init = initializations.get(init)\n",
    "        self.axis = axis\n",
    "        self.is_mult = is_mult\n",
    "        super(Elemwise, self).__init__(**kwargs)\n",
    "\n",
    "    def build(self, input_shape):\n",
    "        input_dims = input_shape[1:]\n",
    "        dims = [1] * len(input_dims)\n",
    "        dims[self.axis] = input_dims[self.axis]\n",
    "        self.b = self.add_weight(dims, self.init, '{}_bo'.format(self.name))\n",
    "        self.built = True\n",
    "\n",
    "    def call(self, x, mask=None):\n",
    "        return x * self.b if self.is_mult else x + self.b\n",
    "\n",
    "    def get_output_shape_for(self, input_shape):\n",
    "        return input_shape\n",
    "\n",
    "    def get_config(self):\n",
    "        config = {'init': self.init.__name__, 'axis': self.axis}\n",
    "        base_config = super(Dense, self).get_config()\n",
    "        return dict(list(base_config.items()) + list(config.items()))"
   ]
  },
  {
   "cell_type": "code",
   "execution_count": null,
   "metadata": {
    "collapsed": true,
    "deletable": true,
    "editable": true
   },
   "outputs": [],
   "source": []
  }
 ],
 "metadata": {
  "anaconda-cloud": {},
  "kernelspec": {
   "display_name": "Python [conda root]",
   "language": "python",
   "name": "conda-root-py"
  },
  "language_info": {
   "codemirror_mode": {
    "name": "ipython",
    "version": 3
   },
   "file_extension": ".py",
   "mimetype": "text/x-python",
   "name": "python",
   "nbconvert_exporter": "python",
   "pygments_lexer": "ipython3",
   "version": "3.6.0"
  },
  "widgets": {
   "state": {
    "032be0dfe02c4eaaa2c58fb3c668477f": {
     "views": [
      {
       "cell_index": 55
      }
     ]
    },
    "041ddbf19b1a46f191297cd248b3fdc5": {
     "views": [
      {
       "cell_index": 55
      }
     ]
    },
    "04428ccab7fa4c3e86c9331610cbdb60": {
     "views": [
      {
       "cell_index": 55
      }
     ]
    },
    "0983a4427d5744f58514277a85619c6f": {
     "views": [
      {
       "cell_index": 55
      }
     ]
    },
    "0dc2f8fd9ac64944a5cc1efaa6fb046a": {
     "views": [
      {
       "cell_index": 55
      }
     ]
    },
    "0f482cad388a4a9ca907d1584a61a96d": {
     "views": [
      {
       "cell_index": 55
      }
     ]
    },
    "10d982817d694f189a8cd3c91e548ecc": {
     "views": [
      {
       "cell_index": 55
      }
     ]
    },
    "10ff173cd3d34aa98243323de6dc585a": {
     "views": [
      {
       "cell_index": 55
      }
     ]
    },
    "12158d767fff40008dbdf64380b1c101": {
     "views": [
      {
       "cell_index": 55
      }
     ]
    },
    "142456640a0842278c6cbecd2cf2f946": {
     "views": [
      {
       "cell_index": 55
      }
     ]
    },
    "147a36d1196a41a0b4208292ac0ccf76": {
     "views": [
      {
       "cell_index": 55
      }
     ]
    },
    "17bcce1998094c2d93fb21e0f65f1b49": {
     "views": [
      {
       "cell_index": 55
      }
     ]
    },
    "185fcfaf96294c5c919b2f4b94eb3e3a": {
     "views": [
      {
       "cell_index": 55
      }
     ]
    },
    "187490098dbf4f62ae216d3061088fd1": {
     "views": [
      {
       "cell_index": 55
      }
     ]
    },
    "1cbc953a3f764e84a80f7fafb9cfb4da": {
     "views": [
      {
       "cell_index": 55
      }
     ]
    },
    "1e413510e02d4d4885e90a72e96458c4": {
     "views": [
      {
       "cell_index": 55
      }
     ]
    },
    "23eb0c409eb249e48a76ba3b4e66109e": {
     "views": [
      {
       "cell_index": 55
      }
     ]
    },
    "263a157692814a52b0b3e505ac0e68bc": {
     "views": [
      {
       "cell_index": 55
      }
     ]
    },
    "268d85f946104cfaa4e6544d7a18112d": {
     "views": [
      {
       "cell_index": 55
      }
     ]
    },
    "2725284c7dab41f997cda97cef40138a": {
     "views": [
      {
       "cell_index": 55
      }
     ]
    },
    "273e1f33aed34bcb8691def59637d61a": {
     "views": [
      {
       "cell_index": 55
      }
     ]
    },
    "27552db7f5b64a3daae431c688a161b3": {
     "views": [
      {
       "cell_index": 55
      }
     ]
    },
    "280373c0fb1344f0a593a8bfdfdcd3e2": {
     "views": [
      {
       "cell_index": 55
      }
     ]
    },
    "2914789bf24d481baace9ffad473d5aa": {
     "views": [
      {
       "cell_index": 55
      }
     ]
    },
    "30659a05c3734ec1bcda00d3517c07c5": {
     "views": [
      {
       "cell_index": 55
      }
     ]
    },
    "332435bd583e47df9611014bf7c60a55": {
     "views": [
      {
       "cell_index": 55
      }
     ]
    },
    "3848e6d11b294a1fbed2483b9660169f": {
     "views": [
      {
       "cell_index": 55
      }
     ]
    },
    "3ad7997434db4d95ad2a4feb7c6d5154": {
     "views": [
      {
       "cell_index": 55
      }
     ]
    },
    "40a07c45151041569e09c6fc27c1282b": {
     "views": [
      {
       "cell_index": 55
      }
     ]
    },
    "43063da517474085a891b08e333badb1": {
     "views": [
      {
       "cell_index": 55
      }
     ]
    },
    "44e103716a2d4e02ac092d25532ad940": {
     "views": [
      {
       "cell_index": 55
      }
     ]
    },
    "4be15505cff84a74bd9ca7adb08c6566": {
     "views": [
      {
       "cell_index": 55
      }
     ]
    },
    "4c9d3911fb7b4ca290c0234ceca1ce37": {
     "views": [
      {
       "cell_index": 55
      }
     ]
    },
    "4da325258e9246479b16eb38808161d5": {
     "views": [
      {
       "cell_index": 55
      }
     ]
    },
    "4e50a5987478427db7a100efc5d8f114": {
     "views": [
      {
       "cell_index": 55
      }
     ]
    },
    "5049713fd83043fc970ccf618261c27a": {
     "views": [
      {
       "cell_index": 55
      }
     ]
    },
    "52009bc5e3044df9b09c6600f6349cb2": {
     "views": [
      {
       "cell_index": 55
      }
     ]
    },
    "520f647b34f94e8d9bbae950977dcfd7": {
     "views": [
      {
       "cell_index": 55
      }
     ]
    },
    "554ca57afb2c438ba3474c67001b658a": {
     "views": [
      {
       "cell_index": 55
      }
     ]
    },
    "5694f575a66845bdb8e5a059c7138c97": {
     "views": [
      {
       "cell_index": 55
      }
     ]
    },
    "584a19d7ebcf46f9a53ac7cd6343f9aa": {
     "views": [
      {
       "cell_index": 55
      }
     ]
    },
    "5f1b53377bf44513a8c0f5bedfb3b626": {
     "views": [
      {
       "cell_index": 55
      }
     ]
    },
    "5faebe27f2dd4bb1b82fc2d6ef6dbf47": {
     "views": [
      {
       "cell_index": 55
      }
     ]
    },
    "5fdd592b062f437da02e244396ebea30": {
     "views": [
      {
       "cell_index": 55
      }
     ]
    },
    "62d86e5251444107a46752bca1fd0c78": {
     "views": [
      {
       "cell_index": 55
      }
     ]
    },
    "6a4d2b7f19fd449e94aca868aa88e30b": {
     "views": [
      {
       "cell_index": 55
      }
     ]
    },
    "6ea8c83d440b4ad98bddc1f028efc427": {
     "views": [
      {
       "cell_index": 55
      }
     ]
    },
    "74aac2310f024d60b3931df722c4061a": {
     "views": [
      {
       "cell_index": 55
      }
     ]
    },
    "77c8582dd0c04f95bb2dae149e547332": {
     "views": [
      {
       "cell_index": 55
      }
     ]
    },
    "78b30db63ed84dcc9441007bfcf15a3b": {
     "views": [
      {
       "cell_index": 55
      }
     ]
    },
    "7af7de55ec65468890b1db1e9638511b": {
     "views": [
      {
       "cell_index": 55
      }
     ]
    },
    "7ba387b8e49945069e197b68de7442b9": {
     "views": [
      {
       "cell_index": 55
      }
     ]
    },
    "7e6fb4c4ea7c4b47bb8864a52e58d4a5": {
     "views": [
      {
       "cell_index": 55
      }
     ]
    },
    "7ec53c3dbbf04f5fa393ee813ba8cdf9": {
     "views": [
      {
       "cell_index": 55
      }
     ]
    },
    "7ee5f285f7dc48a09e480cbc8f4a11e2": {
     "views": [
      {
       "cell_index": 55
      }
     ]
    },
    "80850d2a2767408289f5c1c44e623aaa": {
     "views": [
      {
       "cell_index": 55
      }
     ]
    },
    "8514deda762d4c1495b6d5c8a87385be": {
     "views": [
      {
       "cell_index": 55
      }
     ]
    },
    "8622e4d4d2ef4845b9c94432b2367d5c": {
     "views": [
      {
       "cell_index": 55
      }
     ]
    },
    "86cf3d53b25e46f2a3db85cfbdc33483": {
     "views": [
      {
       "cell_index": 55
      }
     ]
    },
    "8abf26a2060847d2ac2a901d129cdd1e": {
     "views": [
      {
       "cell_index": 55
      }
     ]
    },
    "9177b155bd3f47b180f94675d02b9d20": {
     "views": [
      {
       "cell_index": 55
      }
     ]
    },
    "9280a9cba893454ca7ac52696d5a5ccb": {
     "views": [
      {
       "cell_index": 55
      }
     ]
    },
    "9506d63b93854ccc86f650c3f40cf044": {
     "views": [
      {
       "cell_index": 55
      }
     ]
    },
    "977a6e86d5694f1ba9638016fde1584c": {
     "views": [
      {
       "cell_index": 55
      }
     ]
    },
    "9c4a0037d9074162acc7407c8fe9c6df": {
     "views": [
      {
       "cell_index": 55
      }
     ]
    },
    "a22e26b1cb9a4297a034893eca0dd56e": {
     "views": [
      {
       "cell_index": 55
      }
     ]
    },
    "a45f363b6af641bfabb45b5aa0411225": {
     "views": [
      {
       "cell_index": 55
      }
     ]
    },
    "a857491df174452d97b79988d1bbfe58": {
     "views": [
      {
       "cell_index": 55
      }
     ]
    },
    "ad8a38e8a1a54934ba78fb5b46d65baf": {
     "views": [
      {
       "cell_index": 55
      }
     ]
    },
    "adc6a898574348228f099fad1eab626b": {
     "views": [
      {
       "cell_index": 55
      }
     ]
    },
    "afe52a9a73aa4d70932a8af49e4ae99f": {
     "views": [
      {
       "cell_index": 55
      }
     ]
    },
    "b208a6768dbc47c59540f8fcc21fc12c": {
     "views": [
      {
       "cell_index": 55
      }
     ]
    },
    "b4a00775e2a4498dafee685646c14e17": {
     "views": [
      {
       "cell_index": 55
      }
     ]
    },
    "bc0fc3f0109c4d55bd3975c587dbfee5": {
     "views": [
      {
       "cell_index": 55
      }
     ]
    },
    "bc839fe7b2824dbe9a933879afca14c7": {
     "views": [
      {
       "cell_index": 55
      }
     ]
    },
    "c0ddf0eec25d43829bd85e4aea052a09": {
     "views": [
      {
       "cell_index": 55
      }
     ]
    },
    "c0f68d0f713247e6a8472c49fd5db35c": {
     "views": [
      {
       "cell_index": 55
      }
     ]
    },
    "c4988b7c74f240afbdde8f88161669c2": {
     "views": [
      {
       "cell_index": 55
      }
     ]
    },
    "d6dc2ec4c6cd4838aea59f9efc49d7c1": {
     "views": [
      {
       "cell_index": 55
      }
     ]
    },
    "d77a0940831b4bc1ad9413f3232f4d74": {
     "views": [
      {
       "cell_index": 55
      }
     ]
    },
    "da9252379125467eacd8a4a9c823bb57": {
     "views": [
      {
       "cell_index": 55
      }
     ]
    },
    "e062580ba8fe424eb75c72fda5afbef0": {
     "views": [
      {
       "cell_index": 55
      }
     ]
    },
    "e19b280bcb7e46d3bc8eeff0db325a56": {
     "views": [
      {
       "cell_index": 55
      }
     ]
    },
    "e3a070e758a241799d850eb406f268cb": {
     "views": [
      {
       "cell_index": 55
      }
     ]
    },
    "e8de809b267c4a03af1132e4b9a95661": {
     "views": [
      {
       "cell_index": 55
      }
     ]
    },
    "e9c3798f1b594a59b66f785039cc611b": {
     "views": [
      {
       "cell_index": 55
      }
     ]
    },
    "ec3ac1e4d6354d959351a6726987e451": {
     "views": [
      {
       "cell_index": 55
      }
     ]
    },
    "ed72b2ed68f44053a82b2283959fa8f8": {
     "views": [
      {
       "cell_index": 55
      }
     ]
    },
    "f0a44e1a47924773a7d070e61a453590": {
     "views": [
      {
       "cell_index": 55
      }
     ]
    },
    "f30635626abf41c1af5ccca0ac14f613": {
     "views": [
      {
       "cell_index": 55
      }
     ]
    },
    "fc9e74dca7994a76814d05d5e5a33f63": {
     "views": [
      {
       "cell_index": 55
      }
     ]
    },
    "fedff3b43f8646689b58b32cc75e8aba": {
     "views": [
      {
       "cell_index": 55
      }
     ]
    }
   },
   "version": "1.2.0"
  }
 },
 "nbformat": 4,
 "nbformat_minor": 2
}
